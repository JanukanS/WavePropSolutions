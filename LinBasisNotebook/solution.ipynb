{
 "cells": [
  {
   "cell_type": "markdown",
   "id": "6f0ac1cd-73d6-44fe-9f95-2ae446553312",
   "metadata": {},
   "source": [
    "<h1>Approximation of an Electron Density with 2D linear basis functions</h1>"
   ]
  },
  {
   "cell_type": "code",
   "execution_count": 1,
   "id": "12f3075b-a572-4cc6-b677-fa66df2df798",
   "metadata": {},
   "outputs": [
    {
     "data": {
      "text/latex": [
       "$\\displaystyle \\operatorname{n_{e}}{\\left(x{\\left(t \\right)},y{\\left(t \\right)} \\right)} = n_{1} \\left(1 - \\frac{x{\\left(t \\right)}}{\\alpha}\\right) \\left(1 - \\frac{y{\\left(t \\right)}}{\\beta}\\right) + n_{2} \\frac{x{\\left(t \\right)}}{\\alpha} \\left(1 - \\frac{y{\\left(t \\right)}}{\\beta}\\right) + n_{3} \\frac{y{\\left(t \\right)}}{\\beta} \\left(1 - \\frac{x{\\left(t \\right)}}{\\alpha}\\right) + n_{4} \\frac{x{\\left(t \\right)}}{\\alpha} \\frac{y{\\left(t \\right)}}{\\beta}$"
      ],
      "text/plain": [
       "                    ⎛    x(t)⎞ ⎛    y(t)⎞      x(t) ⎛    y(t)⎞      y(t) ⎛    \n",
       "nₑ(x(t), y(t)) = n₁⋅⎜1 - ────⎟⋅⎜1 - ────⎟ + n₂⋅────⋅⎜1 - ────⎟ + n₃⋅────⋅⎜1 - \n",
       "                    ⎝     α  ⎠ ⎝     β  ⎠       α   ⎝     β  ⎠       β   ⎝    \n",
       "\n",
       "x(t)⎞      x(t) y(t)\n",
       "────⎟ + n₄⋅────⋅────\n",
       " α  ⎠       α    β  "
      ]
     },
     "execution_count": 1,
     "metadata": {},
     "output_type": "execute_result"
    }
   ],
   "source": [
    "from sympy import *\n",
    "init_printing() \n",
    "t = symbols('t')\n",
    "y = Function('y')(t)\n",
    "x = Function('x')(t)\n",
    "ne = Function('n_e')(x,y)\n",
    "kx = Function('k_x')(t)\n",
    "ky = Function('k_y')(t)\n",
    "q, m ,e0 = symbols(\"q m e_0\")\n",
    "gamma_val = (q**2)/(m*e0)\n",
    "w = Function('omega')(kx,ky,x,y)\n",
    "xo,yo,kxo,kyo = symbols(\"x_o y_o k_xo k_yo\")\n",
    "wp = Function('omega_p')(x,y)\n",
    "n1, n2, n3, n4, alpha,beta = symbols(\"n_1 n_2 n_3 n_4 alpha beta\")\n",
    "c, k, gamma= symbols(\"c k gamma\")\n",
    "term1 = (1-x/alpha)\n",
    "term2 = (x/alpha)\n",
    "term3 = (1-y/beta)\n",
    "term4 = (y/beta)\n",
    "ne_val = Mul(n1,term1,term3, evaluate=False) + Mul(n2,term2,term3, evaluate=False) + Mul(n3,term1,term4, evaluate=False) + Mul(n4,term2,term4, evaluate=False)\n",
    "ne_eq = Eq(ne,ne_val)\n",
    "ne_eq"
   ]
  },
  {
   "cell_type": "code",
   "execution_count": 177,
   "id": "a926e253-dafd-4d4f-96c6-549ffbb146d1",
   "metadata": {},
   "outputs": [
    {
     "name": "stdout",
     "output_type": "stream",
     "text": [
      "\\operatorname{n_{e}}{\\left(x{\\left(t \\right)},y{\\left(t \\right)} \\right)} = n_{1} - \\frac{n_{1} y{\\left(t \\right)}}{\\beta} + \\frac{n_{3} y{\\left(t \\right)}}{\\beta} - \\frac{n_{1} x{\\left(t \\right)}}{\\alpha} + \\frac{n_{2} x{\\left(t \\right)}}{\\alpha} + \\frac{n_{1} x{\\left(t \\right)} y{\\left(t \\right)}}{\\alpha \\beta} - \\frac{n_{2} x{\\left(t \\right)} y{\\left(t \\right)}}{\\alpha \\beta} - \\frac{n_{3} x{\\left(t \\right)} y{\\left(t \\right)}}{\\alpha \\beta} + \\frac{n_{4} x{\\left(t \\right)} y{\\left(t \\right)}}{\\alpha \\beta}\n"
     ]
    }
   ],
   "source": [
    "print(latex(Eq(ne,ne_val,evaluate=False)))"
   ]
  },
  {
   "cell_type": "code",
   "execution_count": 2,
   "id": "1ad42ae9-15dc-4a59-afe9-406eae5c5c1e",
   "metadata": {},
   "outputs": [
    {
     "data": {
      "text/latex": [
       "$\\displaystyle \\operatorname{n_{e}}{\\left(x{\\left(t \\right)},y{\\left(t \\right)} \\right)} = n_{1} + \\left(- \\frac{n_{1}}{\\alpha} + \\frac{n_{2}}{\\alpha}\\right) x{\\left(t \\right)} + \\left(- \\frac{n_{1}}{\\beta} + \\frac{n_{3}}{\\beta}\\right) y{\\left(t \\right)} + \\left(\\frac{n_{1}}{\\alpha \\beta} - \\frac{n_{2}}{\\alpha \\beta} - \\frac{n_{3}}{\\alpha \\beta} + \\frac{n_{4}}{\\alpha \\beta}\\right) x{\\left(t \\right)} y{\\left(t \\right)}$"
      ],
      "text/plain": [
       "                      ⎛  n₁   n₂⎞        ⎛  n₁   n₃⎞        ⎛ n₁    n₂    n₃  \n",
       "nₑ(x(t), y(t)) = n₁ + ⎜- ── + ──⎟⋅x(t) + ⎜- ── + ──⎟⋅y(t) + ⎜─── - ─── - ─── +\n",
       "                      ⎝  α    α ⎠        ⎝  β    β ⎠        ⎝α⋅β   α⋅β   α⋅β  \n",
       "\n",
       "  n₄⎞          \n",
       " ───⎟⋅x(t)⋅y(t)\n",
       " α⋅β⎠          "
      ]
     },
     "execution_count": 2,
     "metadata": {},
     "output_type": "execute_result"
    }
   ],
   "source": [
    "ne_val = expand(n1*term1*term3 + n2*term2*term3 + n3*term1*term4 + n4*term2*term4)\n",
    "ne_eq = Eq(ne,collect(ne_val,(x*y,x,y)))\n",
    "ne_eq"
   ]
  },
  {
   "cell_type": "markdown",
   "id": "1e6257ef-8b6f-4332-91b7-1205c8f4df24",
   "metadata": {},
   "source": [
    "<h1>Spatial Derivatives of Electron Density Approximation</h1>"
   ]
  },
  {
   "cell_type": "code",
   "execution_count": 3,
   "id": "f2919106-f9fa-4728-8fa4-20efbf7d6c12",
   "metadata": {},
   "outputs": [
    {
     "data": {
      "text/latex": [
       "$\\displaystyle \\frac{d}{d x{\\left(t \\right)}} \\operatorname{n_{e}}{\\left(x{\\left(t \\right)},y{\\left(t \\right)} \\right)} = \\left(\\frac{n_{1}}{\\alpha \\beta} - \\frac{n_{2}}{\\alpha \\beta} - \\frac{n_{3}}{\\alpha \\beta} + \\frac{n_{4}}{\\alpha \\beta}\\right) y{\\left(t \\right)} - \\frac{n_{1}}{\\alpha} + \\frac{n_{2}}{\\alpha}$"
      ],
      "text/plain": [
       "  d                     ⎛ n₁    n₂    n₃    n₄⎞        n₁   n₂\n",
       "─────(nₑ(x(t), y(t))) = ⎜─── - ─── - ─── + ───⎟⋅y(t) - ── + ──\n",
       "dx(t)                   ⎝α⋅β   α⋅β   α⋅β   α⋅β⎠        α    α "
      ]
     },
     "execution_count": 3,
     "metadata": {},
     "output_type": "execute_result"
    }
   ],
   "source": [
    "dndx_val = diff(ne_eq.rhs,x)\n",
    "dndx_eq = Eq(diff(ne,x),dndx_val)\n",
    "dndx_eq"
   ]
  },
  {
   "cell_type": "code",
   "execution_count": 4,
   "id": "bca5b132-12b8-4f94-a5f4-0e254ad3bdb5",
   "metadata": {},
   "outputs": [
    {
     "data": {
      "text/latex": [
       "$\\displaystyle \\frac{d}{d y{\\left(t \\right)}} \\operatorname{n_{e}}{\\left(x{\\left(t \\right)},y{\\left(t \\right)} \\right)} = \\left(\\frac{n_{1}}{\\alpha \\beta} - \\frac{n_{2}}{\\alpha \\beta} - \\frac{n_{3}}{\\alpha \\beta} + \\frac{n_{4}}{\\alpha \\beta}\\right) x{\\left(t \\right)} - \\frac{n_{1}}{\\beta} + \\frac{n_{3}}{\\beta}$"
      ],
      "text/plain": [
       "  d                     ⎛ n₁    n₂    n₃    n₄⎞        n₁   n₃\n",
       "─────(nₑ(x(t), y(t))) = ⎜─── - ─── - ─── + ───⎟⋅x(t) - ── + ──\n",
       "dy(t)                   ⎝α⋅β   α⋅β   α⋅β   α⋅β⎠        β    β "
      ]
     },
     "execution_count": 4,
     "metadata": {},
     "output_type": "execute_result"
    }
   ],
   "source": [
    "dndy_val = diff(ne_eq.rhs,y)\n",
    "dndy_eq = Eq(diff(ne,y),dndy_val)\n",
    "dndy_eq"
   ]
  },
  {
   "cell_type": "code",
   "execution_count": 5,
   "id": "807b9141-2a4d-4699-946f-565f5e98beaa",
   "metadata": {},
   "outputs": [
    {
     "data": {
      "text/latex": [
       "$\\displaystyle \\frac{d}{d x{\\left(t \\right)}} \\operatorname{n_{e}}{\\left(x{\\left(t \\right)},y{\\left(t \\right)} \\right)} = A_{1} + A_{2} y{\\left(t \\right)}$"
      ],
      "text/plain": [
       "  d                                 \n",
       "─────(nₑ(x(t), y(t))) = A₁ + A₂⋅y(t)\n",
       "dx(t)                               "
      ]
     },
     "execution_count": 5,
     "metadata": {},
     "output_type": "execute_result"
    }
   ],
   "source": [
    "A1,A2,A3,A4 = symbols(\"A_1 A_2 A_3 A_4\")\n",
    "A1_val = collect(dndx_val,y).coeff(y,0)\n",
    "A2_val = collect(dndx_val,y).coeff(y,1)\n",
    "A3_val = collect(dndy_val,x).coeff(x,0)\n",
    "A4_val = collect(dndy_val,x).coeff(x,1)\n",
    "dndx_val = collect(dndx_val,y).subs(A1_val,A1).subs(A2_val,A2)\n",
    "dndx_eq = Eq(dndx_eq.lhs,dndx_val)\n",
    "dndx_eq"
   ]
  },
  {
   "cell_type": "code",
   "execution_count": 6,
   "id": "2c6fb22b-b596-4da8-95ec-41e19d0a7c20",
   "metadata": {},
   "outputs": [
    {
     "data": {
      "text/latex": [
       "$\\displaystyle \\frac{d}{d y{\\left(t \\right)}} \\operatorname{n_{e}}{\\left(x{\\left(t \\right)},y{\\left(t \\right)} \\right)} = A_{3} + A_{4} x{\\left(t \\right)}$"
      ],
      "text/plain": [
       "  d                                 \n",
       "─────(nₑ(x(t), y(t))) = A₃ + A₄⋅x(t)\n",
       "dy(t)                               "
      ]
     },
     "execution_count": 6,
     "metadata": {},
     "output_type": "execute_result"
    }
   ],
   "source": [
    "dndy_val = collect(dndy_val,x).subs(A3_val,A3).subs(A4_val,A4)\n",
    "dndy_eq = Eq(dndy_eq.lhs,dndy_val)\n",
    "dndy_eq"
   ]
  },
  {
   "cell_type": "markdown",
   "id": "89154eab-e86f-49db-9d8d-2182f99155df",
   "metadata": {},
   "source": [
    "<h1>Electromagnetic Wave Dispersion Relation</h1>"
   ]
  },
  {
   "cell_type": "code",
   "execution_count": 7,
   "id": "0fe636e7-50c6-4499-bfd3-281048808086",
   "metadata": {},
   "outputs": [
    {
     "data": {
      "text/latex": [
       "$\\displaystyle \\omega^{2}{\\left(\\operatorname{k_{x}}{\\left(t \\right)},\\operatorname{k_{y}}{\\left(t \\right)},x{\\left(t \\right)},y{\\left(t \\right)} \\right)} = c^{2} k^{2} + \\omega_{p}^{2}{\\left(x{\\left(t \\right)},y{\\left(t \\right)} \\right)}$"
      ],
      "text/plain": [
       " 2                               2  2     2            \n",
       "ω (kₓ(t), k_y(t), x(t), y(t)) = c ⋅k  + ωₚ (x(t), y(t))"
      ]
     },
     "execution_count": 7,
     "metadata": {},
     "output_type": "execute_result"
    }
   ],
   "source": [
    "dispEmRHS = wp**2+(c*k)**2\n",
    "dispEmLHS = w**2\n",
    "dispEm = Eq(dispEmLHS,dispEmRHS)\n",
    "dispEm"
   ]
  },
  {
   "cell_type": "code",
   "execution_count": 8,
   "id": "7d87c02f-13b4-436e-82d2-fa7b66040532",
   "metadata": {},
   "outputs": [
    {
     "data": {
      "text/latex": [
       "$\\displaystyle \\omega^{2}{\\left(\\operatorname{k_{x}}{\\left(t \\right)},\\operatorname{k_{y}}{\\left(t \\right)},x{\\left(t \\right)},y{\\left(t \\right)} \\right)} = c^{2} \\left(\\operatorname{k_{x}}^{2}{\\left(t \\right)} + \\operatorname{k_{y}}^{2}{\\left(t \\right)}\\right) + \\gamma \\operatorname{n_{e}}{\\left(x{\\left(t \\right)},y{\\left(t \\right)} \\right)}$"
      ],
      "text/plain": [
       " 2                               2 ⎛  2         2   ⎞                   \n",
       "ω (kₓ(t), k_y(t), x(t), y(t)) = c ⋅⎝kₓ (t) + k_y (t)⎠ + γ⋅nₑ(x(t), y(t))"
      ]
     },
     "execution_count": 8,
     "metadata": {},
     "output_type": "execute_result"
    }
   ],
   "source": [
    "wp2_val = gamma*ne\n",
    "dispEm = dispEm.subs(wp**2,wp2_val).subs(k**2,kx**2+ky**2)\n",
    "dispEm"
   ]
  },
  {
   "cell_type": "markdown",
   "id": "fd2fc4d6-aa45-4812-b0f1-cc7ba4dbd1a7",
   "metadata": {},
   "source": [
    "<h1>Hamilton's Ray Equations</h1>\n",
    "<b>X position</b>"
   ]
  },
  {
   "cell_type": "code",
   "execution_count": 9,
   "id": "81832361-148c-49be-b628-5a2998fac84a",
   "metadata": {},
   "outputs": [
    {
     "data": {
      "text/latex": [
       "$\\displaystyle \\frac{d}{d t} x{\\left(t \\right)} = \\frac{d}{d \\operatorname{k_{x}}{\\left(t \\right)}} \\omega{\\left(\\operatorname{k_{x}}{\\left(t \\right)},\\operatorname{k_{y}}{\\left(t \\right)},x{\\left(t \\right)},y{\\left(t \\right)} \\right)}$"
      ],
      "text/plain": [
       "d            d                                 \n",
       "──(x(t)) = ──────(ω(kₓ(t), k_y(t), x(t), y(t)))\n",
       "dt         dkₓ(t)                              "
      ]
     },
     "execution_count": 9,
     "metadata": {},
     "output_type": "execute_result"
    }
   ],
   "source": [
    "posLaw_x = Eq(diff(x,t),diff(w,kx))\n",
    "posLaw_x"
   ]
  },
  {
   "cell_type": "code",
   "execution_count": 10,
   "id": "5c928f65-13ea-447c-bd31-f9945218c25f",
   "metadata": {},
   "outputs": [
    {
     "data": {
      "text/latex": [
       "$\\displaystyle 2 \\omega{\\left(\\operatorname{k_{x}}{\\left(t \\right)},\\operatorname{k_{y}}{\\left(t \\right)},x{\\left(t \\right)},y{\\left(t \\right)} \\right)} \\frac{d}{d \\operatorname{k_{x}}{\\left(t \\right)}} \\omega{\\left(\\operatorname{k_{x}}{\\left(t \\right)},\\operatorname{k_{y}}{\\left(t \\right)},x{\\left(t \\right)},y{\\left(t \\right)} \\right)} = 2 c^{2} \\operatorname{k_{x}}{\\left(t \\right)}$"
      ],
      "text/plain": [
       "                                 d                                       2    \n",
       "2⋅ω(kₓ(t), k_y(t), x(t), y(t))⋅──────(ω(kₓ(t), k_y(t), x(t), y(t))) = 2⋅c ⋅kₓ(\n",
       "                               dkₓ(t)                                         \n",
       "\n",
       "  \n",
       "t)\n",
       "  "
      ]
     },
     "execution_count": 10,
     "metadata": {},
     "output_type": "execute_result"
    }
   ],
   "source": [
    "posLaw_x = Eq(diff(dispEm.lhs,kx),diff(dispEm.rhs,kx))\n",
    "posLaw_x"
   ]
  },
  {
   "cell_type": "code",
   "execution_count": 11,
   "id": "4ab0a526-7a9f-4518-9107-46c64524baad",
   "metadata": {},
   "outputs": [
    {
     "data": {
      "text/latex": [
       "$\\displaystyle \\frac{d}{d \\operatorname{k_{x}}{\\left(t \\right)}} \\omega{\\left(\\operatorname{k_{x}}{\\left(t \\right)},\\operatorname{k_{y}}{\\left(t \\right)},x{\\left(t \\right)},y{\\left(t \\right)} \\right)} = \\frac{c^{2} \\operatorname{k_{x}}{\\left(t \\right)}}{\\omega{\\left(\\operatorname{k_{x}}{\\left(t \\right)},\\operatorname{k_{y}}{\\left(t \\right)},x{\\left(t \\right)},y{\\left(t \\right)} \\right)}}$"
      ],
      "text/plain": [
       "                                                  2                \n",
       "  d                                              c ⋅kₓ(t)          \n",
       "──────(ω(kₓ(t), k_y(t), x(t), y(t))) = ────────────────────────────\n",
       "dkₓ(t)                                 ω(kₓ(t), k_y(t), x(t), y(t))"
      ]
     },
     "execution_count": 11,
     "metadata": {},
     "output_type": "execute_result"
    }
   ],
   "source": [
    "dwdkx = Eq(posLaw_x.lhs/(2*w),posLaw_x.rhs/(2*w))\n",
    "dwdkx "
   ]
  },
  {
   "cell_type": "code",
   "execution_count": 12,
   "id": "776925a1-0404-42d2-9b2a-8a736b96306d",
   "metadata": {},
   "outputs": [
    {
     "data": {
      "text/latex": [
       "$\\displaystyle \\frac{d}{d t} x{\\left(t \\right)} = \\frac{c^{2} \\operatorname{k_{x}}{\\left(t \\right)}}{\\omega{\\left(\\operatorname{k_{x}}{\\left(t \\right)},\\operatorname{k_{y}}{\\left(t \\right)},x{\\left(t \\right)},y{\\left(t \\right)} \\right)}}$"
      ],
      "text/plain": [
       "                      2                \n",
       "d                    c ⋅kₓ(t)          \n",
       "──(x(t)) = ────────────────────────────\n",
       "dt         ω(kₓ(t), k_y(t), x(t), y(t))"
      ]
     },
     "execution_count": 12,
     "metadata": {},
     "output_type": "execute_result"
    }
   ],
   "source": [
    "dxdt_eq = Eq(diff(x,t),dwdkx.rhs)\n",
    "dxdt_eq"
   ]
  },
  {
   "cell_type": "markdown",
   "id": "04128899-af44-4f70-a0f6-38c8b7878666",
   "metadata": {},
   "source": [
    "<b>X wave vector component</b>"
   ]
  },
  {
   "cell_type": "code",
   "execution_count": 13,
   "id": "63ddbf92-5a20-40fe-a06e-4e3adac24758",
   "metadata": {},
   "outputs": [
    {
     "data": {
      "text/latex": [
       "$\\displaystyle \\frac{d}{d t} \\operatorname{k_{x}}{\\left(t \\right)} = - \\frac{d}{d x{\\left(t \\right)}} \\omega{\\left(\\operatorname{k_{x}}{\\left(t \\right)},\\operatorname{k_{y}}{\\left(t \\right)},x{\\left(t \\right)},y{\\left(t \\right)} \\right)}$"
      ],
      "text/plain": [
       "d              d                                \n",
       "──(kₓ(t)) = -─────(ω(kₓ(t), k_y(t), x(t), y(t)))\n",
       "dt           dx(t)                              "
      ]
     },
     "execution_count": 13,
     "metadata": {},
     "output_type": "execute_result"
    }
   ],
   "source": [
    "wvLaw_x = Eq(diff(kx,t),-diff(w,x))\n",
    "wvLaw_x"
   ]
  },
  {
   "cell_type": "code",
   "execution_count": 14,
   "id": "0ae0bc36-3b15-467a-bfcc-4f0af659e540",
   "metadata": {},
   "outputs": [
    {
     "data": {
      "text/latex": [
       "$\\displaystyle 2 \\omega{\\left(\\operatorname{k_{x}}{\\left(t \\right)},\\operatorname{k_{y}}{\\left(t \\right)},x{\\left(t \\right)},y{\\left(t \\right)} \\right)} \\frac{d}{d x{\\left(t \\right)}} \\omega{\\left(\\operatorname{k_{x}}{\\left(t \\right)},\\operatorname{k_{y}}{\\left(t \\right)},x{\\left(t \\right)},y{\\left(t \\right)} \\right)} = \\gamma \\frac{d}{d x{\\left(t \\right)}} \\operatorname{n_{e}}{\\left(x{\\left(t \\right)},y{\\left(t \\right)} \\right)}$"
      ],
      "text/plain": [
       "                                 d                                       d    \n",
       "2⋅ω(kₓ(t), k_y(t), x(t), y(t))⋅─────(ω(kₓ(t), k_y(t), x(t), y(t))) = γ⋅─────(n\n",
       "                               dx(t)                                   dx(t)  \n",
       "\n",
       "              \n",
       "ₑ(x(t), y(t)))\n",
       "              "
      ]
     },
     "execution_count": 14,
     "metadata": {},
     "output_type": "execute_result"
    }
   ],
   "source": [
    "wvLaw_x = Eq(diff(dispEm.lhs,x),diff(dispEm.rhs,x))\n",
    "wvLaw_x"
   ]
  },
  {
   "cell_type": "code",
   "execution_count": 15,
   "id": "13aca57a-6572-4fcc-b9de-e15fabfa9109",
   "metadata": {},
   "outputs": [
    {
     "data": {
      "text/latex": [
       "$\\displaystyle \\frac{d}{d x{\\left(t \\right)}} \\omega{\\left(\\operatorname{k_{x}}{\\left(t \\right)},\\operatorname{k_{y}}{\\left(t \\right)},x{\\left(t \\right)},y{\\left(t \\right)} \\right)} = \\frac{\\gamma \\frac{d}{d x{\\left(t \\right)}} \\operatorname{n_{e}}{\\left(x{\\left(t \\right)},y{\\left(t \\right)} \\right)}}{2 \\omega{\\left(\\operatorname{k_{x}}{\\left(t \\right)},\\operatorname{k_{y}}{\\left(t \\right)},x{\\left(t \\right)},y{\\left(t \\right)} \\right)}}$"
      ],
      "text/plain": [
       "                                             d                      \n",
       "                                         γ⋅─────(nₑ(x(t), y(t)))    \n",
       "  d                                        dx(t)                    \n",
       "─────(ω(kₓ(t), k_y(t), x(t), y(t))) = ──────────────────────────────\n",
       "dx(t)                                 2⋅ω(kₓ(t), k_y(t), x(t), y(t))"
      ]
     },
     "execution_count": 15,
     "metadata": {},
     "output_type": "execute_result"
    }
   ],
   "source": [
    "wvLaw_x = Eq(wvLaw_x.lhs/(2*w),wvLaw_x.rhs/(2*w))\n",
    "wvLaw_x"
   ]
  },
  {
   "cell_type": "code",
   "execution_count": 16,
   "id": "effef3b2-c363-4774-8e76-bffda935d1cc",
   "metadata": {},
   "outputs": [
    {
     "data": {
      "text/latex": [
       "$\\displaystyle \\frac{d}{d x{\\left(t \\right)}} \\omega{\\left(\\operatorname{k_{x}}{\\left(t \\right)},\\operatorname{k_{y}}{\\left(t \\right)},x{\\left(t \\right)},y{\\left(t \\right)} \\right)} = \\frac{\\gamma \\left(A_{1} + A_{2} y{\\left(t \\right)}\\right)}{2 \\omega{\\left(\\operatorname{k_{x}}{\\left(t \\right)},\\operatorname{k_{y}}{\\left(t \\right)},x{\\left(t \\right)},y{\\left(t \\right)} \\right)}}$"
      ],
      "text/plain": [
       "  d                                          γ⋅(A₁ + A₂⋅y(t))       \n",
       "─────(ω(kₓ(t), k_y(t), x(t), y(t))) = ──────────────────────────────\n",
       "dx(t)                                 2⋅ω(kₓ(t), k_y(t), x(t), y(t))"
      ]
     },
     "execution_count": 16,
     "metadata": {},
     "output_type": "execute_result"
    }
   ],
   "source": [
    "wvLaw_x = wvLaw_x.subs(diff(ne,x),dndx_eq.rhs)\n",
    "wvLaw_x"
   ]
  },
  {
   "cell_type": "code",
   "execution_count": 17,
   "id": "d6f9388a-46bb-4ad2-aafb-de5ac999f8de",
   "metadata": {},
   "outputs": [
    {
     "data": {
      "text/latex": [
       "$\\displaystyle \\frac{d}{d t} \\operatorname{k_{x}}{\\left(t \\right)} = \\frac{\\gamma \\left(A_{1} + A_{2} y{\\left(t \\right)}\\right)}{2 \\omega{\\left(\\operatorname{k_{x}}{\\left(t \\right)},\\operatorname{k_{y}}{\\left(t \\right)},x{\\left(t \\right)},y{\\left(t \\right)} \\right)}}$"
      ],
      "text/plain": [
       "d                  γ⋅(A₁ + A₂⋅y(t))       \n",
       "──(kₓ(t)) = ──────────────────────────────\n",
       "dt          2⋅ω(kₓ(t), k_y(t), x(t), y(t))"
      ]
     },
     "execution_count": 17,
     "metadata": {},
     "output_type": "execute_result"
    }
   ],
   "source": [
    "dkxdt_eq = Eq(diff(kx,t),wvLaw_x.rhs)\n",
    "dkxdt_val = dkxdt_eq.rhs\n",
    "dkxdt_eq"
   ]
  },
  {
   "cell_type": "markdown",
   "id": "14572a1c-3fa9-4cbc-a004-8efc7b11cd38",
   "metadata": {},
   "source": [
    "<b>Y position</b>"
   ]
  },
  {
   "cell_type": "code",
   "execution_count": 18,
   "id": "41d804ad-c66a-4235-ad4e-7a30b275d82a",
   "metadata": {},
   "outputs": [
    {
     "data": {
      "text/latex": [
       "$\\displaystyle \\frac{d}{d t} y{\\left(t \\right)} = \\frac{d}{d \\operatorname{k_{y}}{\\left(t \\right)}} \\omega{\\left(\\operatorname{k_{x}}{\\left(t \\right)},\\operatorname{k_{y}}{\\left(t \\right)},x{\\left(t \\right)},y{\\left(t \\right)} \\right)}$"
      ],
      "text/plain": [
       "d             d                                 \n",
       "──(y(t)) = ───────(ω(kₓ(t), k_y(t), x(t), y(t)))\n",
       "dt         dk_y(t)                              "
      ]
     },
     "execution_count": 18,
     "metadata": {},
     "output_type": "execute_result"
    }
   ],
   "source": [
    "posLaw_y = Eq(diff(y,t),diff(w,ky))\n",
    "posLaw_y"
   ]
  },
  {
   "cell_type": "code",
   "execution_count": 19,
   "id": "e4dbf656-72b9-4b67-ad55-4ec99c7e544a",
   "metadata": {},
   "outputs": [
    {
     "data": {
      "text/latex": [
       "$\\displaystyle 2 \\omega{\\left(\\operatorname{k_{x}}{\\left(t \\right)},\\operatorname{k_{y}}{\\left(t \\right)},x{\\left(t \\right)},y{\\left(t \\right)} \\right)} \\frac{d}{d \\operatorname{k_{y}}{\\left(t \\right)}} \\omega{\\left(\\operatorname{k_{x}}{\\left(t \\right)},\\operatorname{k_{y}}{\\left(t \\right)},x{\\left(t \\right)},y{\\left(t \\right)} \\right)} = 2 c^{2} \\operatorname{k_{y}}{\\left(t \\right)}$"
      ],
      "text/plain": [
       "                                  d                                       2   \n",
       "2⋅ω(kₓ(t), k_y(t), x(t), y(t))⋅───────(ω(kₓ(t), k_y(t), x(t), y(t))) = 2⋅c ⋅k_\n",
       "                               dk_y(t)                                        \n",
       "\n",
       "    \n",
       "y(t)\n",
       "    "
      ]
     },
     "execution_count": 19,
     "metadata": {},
     "output_type": "execute_result"
    }
   ],
   "source": [
    "posLaw_y = Eq(diff(dispEm.lhs,ky),diff(dispEm.rhs,ky))\n",
    "posLaw_y"
   ]
  },
  {
   "cell_type": "code",
   "execution_count": 20,
   "id": "2af89940-ece9-4a71-ad6e-be7e606ddff9",
   "metadata": {},
   "outputs": [
    {
     "data": {
      "text/latex": [
       "$\\displaystyle \\frac{d}{d \\operatorname{k_{y}}{\\left(t \\right)}} \\omega{\\left(\\operatorname{k_{x}}{\\left(t \\right)},\\operatorname{k_{y}}{\\left(t \\right)},x{\\left(t \\right)},y{\\left(t \\right)} \\right)} = \\frac{c^{2} \\operatorname{k_{y}}{\\left(t \\right)}}{\\omega{\\left(\\operatorname{k_{x}}{\\left(t \\right)},\\operatorname{k_{y}}{\\left(t \\right)},x{\\left(t \\right)},y{\\left(t \\right)} \\right)}}$"
      ],
      "text/plain": [
       "                                                  2                 \n",
       "   d                                             c ⋅k_y(t)          \n",
       "───────(ω(kₓ(t), k_y(t), x(t), y(t))) = ────────────────────────────\n",
       "dk_y(t)                                 ω(kₓ(t), k_y(t), x(t), y(t))"
      ]
     },
     "execution_count": 20,
     "metadata": {},
     "output_type": "execute_result"
    }
   ],
   "source": [
    "dwdky = Eq(posLaw_y.lhs/(2*w),posLaw_y.rhs/(2*w))\n",
    "dwdky "
   ]
  },
  {
   "cell_type": "code",
   "execution_count": 21,
   "id": "d97876cb-1030-4c47-92ce-cb9a948aba01",
   "metadata": {},
   "outputs": [
    {
     "data": {
      "text/latex": [
       "$\\displaystyle \\frac{d}{d t} y{\\left(t \\right)} = \\frac{c^{2} \\operatorname{k_{y}}{\\left(t \\right)}}{\\omega{\\left(\\operatorname{k_{x}}{\\left(t \\right)},\\operatorname{k_{y}}{\\left(t \\right)},x{\\left(t \\right)},y{\\left(t \\right)} \\right)}}$"
      ],
      "text/plain": [
       "                     2                 \n",
       "d                   c ⋅k_y(t)          \n",
       "──(y(t)) = ────────────────────────────\n",
       "dt         ω(kₓ(t), k_y(t), x(t), y(t))"
      ]
     },
     "execution_count": 21,
     "metadata": {},
     "output_type": "execute_result"
    }
   ],
   "source": [
    "dydt_eq = Eq(diff(y,t),dwdky.rhs)\n",
    "dydt_eq"
   ]
  },
  {
   "cell_type": "markdown",
   "id": "6bb18664-910d-422c-83f6-813589a80e4f",
   "metadata": {},
   "source": [
    "<b>Y wave vector component </b>"
   ]
  },
  {
   "cell_type": "code",
   "execution_count": 22,
   "id": "575f9222-7928-4cba-97a2-1064c10946d1",
   "metadata": {},
   "outputs": [
    {
     "data": {
      "text/latex": [
       "$\\displaystyle \\frac{d}{d t} \\operatorname{k_{y}}{\\left(t \\right)} = - \\frac{d}{d y{\\left(t \\right)}} \\omega{\\left(\\operatorname{k_{x}}{\\left(t \\right)},\\operatorname{k_{y}}{\\left(t \\right)},x{\\left(t \\right)},y{\\left(t \\right)} \\right)}$"
      ],
      "text/plain": [
       "d               d                                \n",
       "──(k_y(t)) = -─────(ω(kₓ(t), k_y(t), x(t), y(t)))\n",
       "dt            dy(t)                              "
      ]
     },
     "execution_count": 22,
     "metadata": {},
     "output_type": "execute_result"
    }
   ],
   "source": [
    "wvLaw_y = Eq(diff(ky,t),-diff(w,y))\n",
    "wvLaw_y"
   ]
  },
  {
   "cell_type": "code",
   "execution_count": 23,
   "id": "8ac2d459-7931-4c11-a68b-1d64f219015a",
   "metadata": {},
   "outputs": [
    {
     "data": {
      "text/latex": [
       "$\\displaystyle 2 \\omega{\\left(\\operatorname{k_{x}}{\\left(t \\right)},\\operatorname{k_{y}}{\\left(t \\right)},x{\\left(t \\right)},y{\\left(t \\right)} \\right)} \\frac{d}{d y{\\left(t \\right)}} \\omega{\\left(\\operatorname{k_{x}}{\\left(t \\right)},\\operatorname{k_{y}}{\\left(t \\right)},x{\\left(t \\right)},y{\\left(t \\right)} \\right)} = \\gamma \\frac{d}{d y{\\left(t \\right)}} \\operatorname{n_{e}}{\\left(x{\\left(t \\right)},y{\\left(t \\right)} \\right)}$"
      ],
      "text/plain": [
       "                                 d                                       d    \n",
       "2⋅ω(kₓ(t), k_y(t), x(t), y(t))⋅─────(ω(kₓ(t), k_y(t), x(t), y(t))) = γ⋅─────(n\n",
       "                               dy(t)                                   dy(t)  \n",
       "\n",
       "              \n",
       "ₑ(x(t), y(t)))\n",
       "              "
      ]
     },
     "execution_count": 23,
     "metadata": {},
     "output_type": "execute_result"
    }
   ],
   "source": [
    "wvLaw_y = Eq(diff(dispEm.lhs,y),diff(dispEm.rhs,y))\n",
    "wvLaw_y"
   ]
  },
  {
   "cell_type": "code",
   "execution_count": 24,
   "id": "4620d772-3eab-4a39-b9bd-1e49d3a90a1f",
   "metadata": {},
   "outputs": [
    {
     "data": {
      "text/latex": [
       "$\\displaystyle \\frac{d}{d y{\\left(t \\right)}} \\omega{\\left(\\operatorname{k_{x}}{\\left(t \\right)},\\operatorname{k_{y}}{\\left(t \\right)},x{\\left(t \\right)},y{\\left(t \\right)} \\right)} = \\frac{\\gamma \\frac{d}{d y{\\left(t \\right)}} \\operatorname{n_{e}}{\\left(x{\\left(t \\right)},y{\\left(t \\right)} \\right)}}{2 \\omega{\\left(\\operatorname{k_{x}}{\\left(t \\right)},\\operatorname{k_{y}}{\\left(t \\right)},x{\\left(t \\right)},y{\\left(t \\right)} \\right)}}$"
      ],
      "text/plain": [
       "                                             d                      \n",
       "                                         γ⋅─────(nₑ(x(t), y(t)))    \n",
       "  d                                        dy(t)                    \n",
       "─────(ω(kₓ(t), k_y(t), x(t), y(t))) = ──────────────────────────────\n",
       "dy(t)                                 2⋅ω(kₓ(t), k_y(t), x(t), y(t))"
      ]
     },
     "execution_count": 24,
     "metadata": {},
     "output_type": "execute_result"
    }
   ],
   "source": [
    "wvLaw_y = Eq(wvLaw_y.lhs/(2*w),wvLaw_y.rhs/(2*w))\n",
    "wvLaw_y"
   ]
  },
  {
   "cell_type": "code",
   "execution_count": 25,
   "id": "efbd5ef3-2f10-48a1-9464-c31a4359effe",
   "metadata": {},
   "outputs": [
    {
     "data": {
      "text/latex": [
       "$\\displaystyle \\frac{d}{d y{\\left(t \\right)}} \\omega{\\left(\\operatorname{k_{x}}{\\left(t \\right)},\\operatorname{k_{y}}{\\left(t \\right)},x{\\left(t \\right)},y{\\left(t \\right)} \\right)} = \\frac{\\gamma \\left(A_{3} + A_{4} x{\\left(t \\right)}\\right)}{2 \\omega{\\left(\\operatorname{k_{x}}{\\left(t \\right)},\\operatorname{k_{y}}{\\left(t \\right)},x{\\left(t \\right)},y{\\left(t \\right)} \\right)}}$"
      ],
      "text/plain": [
       "  d                                          γ⋅(A₃ + A₄⋅x(t))       \n",
       "─────(ω(kₓ(t), k_y(t), x(t), y(t))) = ──────────────────────────────\n",
       "dy(t)                                 2⋅ω(kₓ(t), k_y(t), x(t), y(t))"
      ]
     },
     "execution_count": 25,
     "metadata": {},
     "output_type": "execute_result"
    }
   ],
   "source": [
    "wvLaw_y = wvLaw_y.subs(diff(ne,y),dndy_eq.rhs)\n",
    "wvLaw_y"
   ]
  },
  {
   "cell_type": "code",
   "execution_count": 26,
   "id": "d2a1842b-3a6b-4d91-8cb3-9eea1802465b",
   "metadata": {},
   "outputs": [
    {
     "data": {
      "text/latex": [
       "$\\displaystyle \\frac{d}{d t} \\operatorname{k_{y}}{\\left(t \\right)} = \\frac{\\gamma \\left(A_{3} + A_{4} x{\\left(t \\right)}\\right)}{2 \\omega{\\left(\\operatorname{k_{x}}{\\left(t \\right)},\\operatorname{k_{y}}{\\left(t \\right)},x{\\left(t \\right)},y{\\left(t \\right)} \\right)}}$"
      ],
      "text/plain": [
       "d                   γ⋅(A₃ + A₄⋅x(t))       \n",
       "──(k_y(t)) = ──────────────────────────────\n",
       "dt           2⋅ω(kₓ(t), k_y(t), x(t), y(t))"
      ]
     },
     "execution_count": 26,
     "metadata": {},
     "output_type": "execute_result"
    }
   ],
   "source": [
    "dkydt_eq = Eq(diff(ky,t),wvLaw_y.rhs)\n",
    "dkydt_val = dkydt_eq.rhs\n",
    "dkydt_eq"
   ]
  },
  {
   "cell_type": "markdown",
   "id": "4b230e3c-30da-4329-9ab7-1120d202c9e8",
   "metadata": {},
   "source": [
    "Simplifciation of Hamilton Equations for wavevector derivative"
   ]
  },
  {
   "cell_type": "code",
   "execution_count": 27,
   "id": "49c819be-28a2-4675-8161-f9454f9e5b3a",
   "metadata": {},
   "outputs": [
    {
     "data": {
      "text/latex": [
       "$\\displaystyle \\frac{d}{d t} \\operatorname{k_{x}}{\\left(t \\right)} = B_{1} + B_{2} y{\\left(t \\right)}$"
      ],
      "text/plain": [
       "d                       \n",
       "──(kₓ(t)) = B₁ + B₂⋅y(t)\n",
       "dt                      "
      ]
     },
     "execution_count": 27,
     "metadata": {},
     "output_type": "execute_result"
    }
   ],
   "source": [
    "B1,B2,B3,B4 = symbols(\"B_1 B_2 B_3 B_4\")\n",
    "dkxdt_val = expand(dkxdt_val)\n",
    "dkydt_val = expand(dkydt_val)\n",
    "\n",
    "B1_val = dkxdt_val.coeff(gamma/w,1).coeff(y,0)*(gamma/w)\n",
    "B2_val = dkxdt_val.coeff(gamma/w,1).coeff(y,1)*(gamma/w)\n",
    "B3_val = dkydt_val.coeff(gamma/w,1).coeff(x,0)*(gamma/w)\n",
    "B4_val = dkydt_val.coeff(gamma/w,1).coeff(x,1)*(gamma/w)\n",
    "\n",
    "dkxdt_val = dkxdt_val.subs(B1_val,B1).subs(B2_val,B2)\n",
    "dkxdt_eq = Eq(dkxdt_eq.lhs,dkxdt_val);\n",
    "dkxdt_eq"
   ]
  },
  {
   "cell_type": "code",
   "execution_count": 28,
   "id": "ba41ec38-7a86-41e0-a89b-4323af8cc57f",
   "metadata": {},
   "outputs": [
    {
     "data": {
      "text/latex": [
       "$\\displaystyle \\frac{d}{d t} \\operatorname{k_{y}}{\\left(t \\right)} = B_{3} + B_{4} x{\\left(t \\right)}$"
      ],
      "text/plain": [
       "d                        \n",
       "──(k_y(t)) = B₃ + B₄⋅x(t)\n",
       "dt                       "
      ]
     },
     "execution_count": 28,
     "metadata": {},
     "output_type": "execute_result"
    }
   ],
   "source": [
    "dkydt_val = dkydt_val.subs(B3_val,B3).subs(B4_val,B4)\n",
    "dkydt_eq = Eq(dkydt_eq.lhs,dkydt_val)\n",
    "dkydt_eq"
   ]
  },
  {
   "cell_type": "markdown",
   "id": "69169d5b-2ed9-4755-ba9a-e4e19085c13f",
   "metadata": {},
   "source": [
    "Double time derivative of Hamilton position equations"
   ]
  },
  {
   "cell_type": "code",
   "execution_count": 29,
   "id": "11f9b63e-3e78-4f63-b72b-416e26ec1b55",
   "metadata": {},
   "outputs": [
    {
     "data": {
      "text/latex": [
       "$\\displaystyle \\frac{d^{2}}{d t^{2}} x{\\left(t \\right)} = C_{1} + C_{2} y{\\left(t \\right)}$"
      ],
      "text/plain": [
       "  2                     \n",
       " d                      \n",
       "───(x(t)) = C₁ + C₂⋅y(t)\n",
       "  2                     \n",
       "dt                      "
      ]
     },
     "execution_count": 29,
     "metadata": {},
     "output_type": "execute_result"
    }
   ],
   "source": [
    "d2xdt2_eq = Eq(diff(dxdt_eq.lhs,t),diff(w*dxdt_eq.rhs,t)/w)\n",
    "d2xdt2_eq  = Eq(d2xdt2_eq.lhs,d2xdt2_eq.rhs.subs(diff(kx,t),dkxdt_eq.rhs))\n",
    "C1,C2 = symbols(\"C_1 C_2\")\n",
    "C1_val = expand(d2xdt2_eq.rhs*w).coeff(y,0)/w\n",
    "C2_val = expand(d2xdt2_eq.rhs*w).coeff(y,1)/w\n",
    "d2xdt2_eq = Eq(d2xdt2_eq.lhs,expand(d2xdt2_eq.rhs).subs(C1_val,C1).subs(C2_val,C2))\n",
    "d2xdt2_eq"
   ]
  },
  {
   "cell_type": "code",
   "execution_count": 30,
   "id": "25ff3534-fd79-488c-b9b6-5b72869a805a",
   "metadata": {},
   "outputs": [
    {
     "data": {
      "text/latex": [
       "$\\displaystyle \\frac{d^{2}}{d t^{2}} y{\\left(t \\right)} = C_{3} + C_{4} x{\\left(t \\right)}$"
      ],
      "text/plain": [
       "  2                     \n",
       " d                      \n",
       "───(y(t)) = C₃ + C₄⋅x(t)\n",
       "  2                     \n",
       "dt                      "
      ]
     },
     "execution_count": 30,
     "metadata": {},
     "output_type": "execute_result"
    }
   ],
   "source": [
    "d2ydt2_eq = Eq(diff(dydt_eq.lhs,t),diff(w*dydt_eq.rhs,t)/w)\n",
    "d2ydt2_eq  = Eq(d2ydt2_eq.lhs,d2ydt2_eq.rhs.subs(diff(ky,t),dkydt_eq.rhs))\n",
    "C3,C4 = symbols(\"C_3 C_4\")\n",
    "C3_val = expand(d2ydt2_eq.rhs*w).coeff(x,0)/w\n",
    "C4_val = expand(d2ydt2_eq.rhs*w).coeff(x,1)/w\n",
    "d2ydt2_eq = Eq(d2ydt2_eq.lhs,expand(d2ydt2_eq.rhs).subs(C3_val,C3).subs(C4_val,C4))\n",
    "d2ydt2_eq"
   ]
  },
  {
   "cell_type": "markdown",
   "id": "206b8ed1-d6f3-4a91-a186-2e6e40dd64fc",
   "metadata": {},
   "source": [
    "Finding the fourth time derivative of Hamilton position equations and substituting"
   ]
  },
  {
   "cell_type": "code",
   "execution_count": 31,
   "id": "fa7c772c-7b74-4473-ab93-d8d1bcce15fb",
   "metadata": {},
   "outputs": [
    {
     "data": {
      "text/latex": [
       "$\\displaystyle \\frac{d^{4}}{d t^{4}} x{\\left(t \\right)} = D_{1} + D_{2} x{\\left(t \\right)}$"
      ],
      "text/plain": [
       "  4                     \n",
       " d                      \n",
       "───(x(t)) = D₁ + D₂⋅x(t)\n",
       "  4                     \n",
       "dt                      "
      ]
     },
     "execution_count": 31,
     "metadata": {},
     "output_type": "execute_result"
    }
   ],
   "source": [
    "d4xdt4_eq = Eq(diff(d2xdt2_eq.lhs,t,2),diff(d2xdt2_eq.rhs,t,2))\n",
    "d4xdt4_eq = Eq(d4xdt4_eq.lhs,expand(d4xdt4_eq.rhs.subs(d2ydt2_eq.lhs,d2ydt2_eq.rhs)))\n",
    "D1,D2 = symbols(\"D_1 D_2\")\n",
    "D1_val = d4xdt4_eq.rhs.coeff(x,0)\n",
    "D2_val = d4xdt4_eq.rhs.coeff(x,1)\n",
    "d4xdt4_eq = Eq(d4xdt4_eq.lhs,d4xdt4_eq.rhs.subs(D1_val,D1).subs(D2_val,D2))\n",
    "d4xdt4_eq"
   ]
  },
  {
   "cell_type": "code",
   "execution_count": 32,
   "id": "4e351352-1e05-4f79-8d05-e69eb963a997",
   "metadata": {},
   "outputs": [
    {
     "data": {
      "text/latex": [
       "$\\displaystyle \\frac{d^{4}}{d t^{4}} y{\\left(t \\right)} = D_{3} + D_{4} y{\\left(t \\right)}$"
      ],
      "text/plain": [
       "  4                     \n",
       " d                      \n",
       "───(y(t)) = D₃ + D₄⋅y(t)\n",
       "  4                     \n",
       "dt                      "
      ]
     },
     "execution_count": 32,
     "metadata": {},
     "output_type": "execute_result"
    }
   ],
   "source": [
    "d4ydt4_eq = Eq(diff(d2ydt2_eq.lhs,t,2),diff(d2ydt2_eq.rhs,t,2))\n",
    "d4ydt4_eq = Eq(d4ydt4_eq.lhs,expand(d4ydt4_eq.rhs.subs(d2xdt2_eq.lhs,d2xdt2_eq.rhs)))\n",
    "D3,D4 = symbols(\"D_3 D_4\")\n",
    "D3_val = d4ydt4_eq.rhs.coeff(y,0)\n",
    "D4_val = d4ydt4_eq.rhs.coeff(y,1)\n",
    "d4ydt4_eq = Eq(d4ydt4_eq.lhs,d4ydt4_eq.rhs.subs(D3_val,D3).subs(D4_val,D4))\n",
    "d4ydt4_eq"
   ]
  },
  {
   "cell_type": "markdown",
   "id": "576d5aa0-e791-439c-81cb-7d60e4da2009",
   "metadata": {},
   "source": [
    "Evaluating Coefficients to confirm sign"
   ]
  },
  {
   "cell_type": "code",
   "execution_count": 33,
   "id": "1a96d43c-e9a1-4ca6-9745-0268146f171c",
   "metadata": {},
   "outputs": [
    {
     "data": {
      "text/latex": [
       "$\\displaystyle \\frac{c^{4} \\gamma^{2} \\left(- \\frac{n_{1}}{\\beta} + \\frac{n_{3}}{\\beta}\\right) \\left(\\frac{n_{1}}{\\alpha \\beta} - \\frac{n_{2}}{\\alpha \\beta} - \\frac{n_{3}}{\\alpha \\beta} + \\frac{n_{4}}{\\alpha \\beta}\\right)}{4 \\omega^{4}{\\left(\\operatorname{k_{x}}{\\left(t \\right)},\\operatorname{k_{y}}{\\left(t \\right)},x{\\left(t \\right)},y{\\left(t \\right)} \\right)}}$"
      ],
      "text/plain": [
       " 4  2 ⎛  n₁   n₃⎞ ⎛ n₁    n₂    n₃    n₄⎞\n",
       "c ⋅γ ⋅⎜- ── + ──⎟⋅⎜─── - ─── - ─── + ───⎟\n",
       "      ⎝  β    β ⎠ ⎝α⋅β   α⋅β   α⋅β   α⋅β⎠\n",
       "─────────────────────────────────────────\n",
       "        4                                \n",
       "     4⋅ω (kₓ(t), k_y(t), x(t), y(t))     "
      ]
     },
     "execution_count": 33,
     "metadata": {},
     "output_type": "execute_result"
    }
   ],
   "source": [
    "def expand_coeff(d_coeff_val):\n",
    "    c_coeff_val = d_coeff_val.subs(C1,C1_val).subs(C2,C2_val).subs(C3,C3_val).subs(C4,C4_val)\n",
    "    b_coeff_val = c_coeff_val.subs(B1,B1_val).subs(B2,B2_val).subs(B3,B3_val).subs(B4,B4_val)\n",
    "    a_coeff_val = b_coeff_val.subs(A1,A1_val).subs(A2,A2_val).subs(A3,A3_val).subs(A4,A4_val)\n",
    "    final_val = a_coeff_val.subs(w,'omega').subs(gamma,gamma_val)\n",
    "    return a_coeff_val\n",
    "\n",
    "D1_exp = expand_coeff(D1_val)\n",
    "D2_exp = expand_coeff(D2_val)\n",
    "D3_exp = expand_coeff(D3_val)\n",
    "D4_exp = expand_coeff(D4_val)\n",
    "\n",
    "D1_exp"
   ]
  },
  {
   "cell_type": "code",
   "execution_count": 34,
   "id": "45a94625-cc45-41c6-9492-2772bd5694aa",
   "metadata": {},
   "outputs": [
    {
     "data": {
      "text/latex": [
       "$\\displaystyle \\frac{c^{4} \\gamma^{2} \\left(\\frac{n_{1}}{\\alpha \\beta} - \\frac{n_{2}}{\\alpha \\beta} - \\frac{n_{3}}{\\alpha \\beta} + \\frac{n_{4}}{\\alpha \\beta}\\right)^{2}}{4 \\omega^{4}{\\left(\\operatorname{k_{x}}{\\left(t \\right)},\\operatorname{k_{y}}{\\left(t \\right)},x{\\left(t \\right)},y{\\left(t \\right)} \\right)}}$"
      ],
      "text/plain": [
       "                              2\n",
       "  4  2 ⎛ n₁    n₂    n₃    n₄⎞ \n",
       " c ⋅γ ⋅⎜─── - ─── - ─── + ───⎟ \n",
       "       ⎝α⋅β   α⋅β   α⋅β   α⋅β⎠ \n",
       "───────────────────────────────\n",
       "   4                           \n",
       "4⋅ω (kₓ(t), k_y(t), x(t), y(t))"
      ]
     },
     "execution_count": 34,
     "metadata": {},
     "output_type": "execute_result"
    }
   ],
   "source": [
    "D2_exp"
   ]
  },
  {
   "cell_type": "code",
   "execution_count": 35,
   "id": "4fcf5a5d-4f77-40f5-9926-1d596c755f6a",
   "metadata": {},
   "outputs": [
    {
     "data": {
      "text/latex": [
       "$\\displaystyle \\frac{c^{4} \\gamma^{2} \\left(- \\frac{n_{1}}{\\alpha} + \\frac{n_{2}}{\\alpha}\\right) \\left(\\frac{n_{1}}{\\alpha \\beta} - \\frac{n_{2}}{\\alpha \\beta} - \\frac{n_{3}}{\\alpha \\beta} + \\frac{n_{4}}{\\alpha \\beta}\\right)}{4 \\omega^{4}{\\left(\\operatorname{k_{x}}{\\left(t \\right)},\\operatorname{k_{y}}{\\left(t \\right)},x{\\left(t \\right)},y{\\left(t \\right)} \\right)}}$"
      ],
      "text/plain": [
       " 4  2 ⎛  n₁   n₂⎞ ⎛ n₁    n₂    n₃    n₄⎞\n",
       "c ⋅γ ⋅⎜- ── + ──⎟⋅⎜─── - ─── - ─── + ───⎟\n",
       "      ⎝  α    α ⎠ ⎝α⋅β   α⋅β   α⋅β   α⋅β⎠\n",
       "─────────────────────────────────────────\n",
       "        4                                \n",
       "     4⋅ω (kₓ(t), k_y(t), x(t), y(t))     "
      ]
     },
     "execution_count": 35,
     "metadata": {},
     "output_type": "execute_result"
    }
   ],
   "source": [
    "D3_exp"
   ]
  },
  {
   "cell_type": "code",
   "execution_count": 36,
   "id": "ca39ef9b-3fba-4606-ba52-c6027532d851",
   "metadata": {},
   "outputs": [
    {
     "data": {
      "text/latex": [
       "$\\displaystyle \\frac{c^{4} \\gamma^{2} \\left(\\frac{n_{1}}{\\alpha \\beta} - \\frac{n_{2}}{\\alpha \\beta} - \\frac{n_{3}}{\\alpha \\beta} + \\frac{n_{4}}{\\alpha \\beta}\\right)^{2}}{4 \\omega^{4}{\\left(\\operatorname{k_{x}}{\\left(t \\right)},\\operatorname{k_{y}}{\\left(t \\right)},x{\\left(t \\right)},y{\\left(t \\right)} \\right)}}$"
      ],
      "text/plain": [
       "                              2\n",
       "  4  2 ⎛ n₁    n₂    n₃    n₄⎞ \n",
       " c ⋅γ ⋅⎜─── - ─── - ─── + ───⎟ \n",
       "       ⎝α⋅β   α⋅β   α⋅β   α⋅β⎠ \n",
       "───────────────────────────────\n",
       "   4                           \n",
       "4⋅ω (kₓ(t), k_y(t), x(t), y(t))"
      ]
     },
     "execution_count": 36,
     "metadata": {},
     "output_type": "execute_result"
    }
   ],
   "source": [
    "D4_exp"
   ]
  },
  {
   "cell_type": "markdown",
   "id": "9fde5003-9fcc-4561-a772-a74ab18c7b4f",
   "metadata": {},
   "source": [
    "<ul>\n",
    "    <li>D1 and D3 may be either positive or negative</li>\n",
    "    <li>D2 and D4 are equivalent, both are positive due to squared values</li>   \n",
    "</ul>\n",
    "    "
   ]
  },
  {
   "cell_type": "markdown",
   "id": "ed1338f8-0ede-42c0-91c3-bb217b71c9ce",
   "metadata": {},
   "source": [
    "<h1>Specific and General Solutions of x(t) and y(t)</h1>"
   ]
  },
  {
   "cell_type": "code",
   "execution_count": 37,
   "id": "0725428d-70f5-4f81-8f61-0c87cc295588",
   "metadata": {},
   "outputs": [
    {
     "data": {
      "text/latex": [
       "$\\displaystyle x{\\left(t \\right)} = \\operatorname{x_{g}}{\\left(t \\right)} + \\operatorname{x_{s}}{\\left(t \\right)}$"
      ],
      "text/plain": [
       "x(t) = x_g(t) + xₛ(t)"
      ]
     },
     "execution_count": 37,
     "metadata": {},
     "output_type": "execute_result"
    }
   ],
   "source": [
    "xs = Function('x_s')(t)\n",
    "xg = Function('x_g')(t)\n",
    "x_complete = Eq(x,xs+xg)\n",
    "x_complete"
   ]
  },
  {
   "cell_type": "code",
   "execution_count": 38,
   "id": "9ea81f96-dc57-4e8c-8f8a-f8b0b59630c5",
   "metadata": {},
   "outputs": [
    {
     "data": {
      "text/latex": [
       "$\\displaystyle y{\\left(t \\right)} = \\operatorname{y_{g}}{\\left(t \\right)} + \\operatorname{y_{s}}{\\left(t \\right)}$"
      ],
      "text/plain": [
       "y(t) = y_g(t) + yₛ(t)"
      ]
     },
     "execution_count": 38,
     "metadata": {},
     "output_type": "execute_result"
    }
   ],
   "source": [
    "ys = Function('y_s')(t)\n",
    "yg = Function('y_g')(t)\n",
    "y_complete = Eq(y,ys+yg)\n",
    "y_complete"
   ]
  },
  {
   "cell_type": "markdown",
   "id": "a5a39f65-a431-4f46-b476-5c0e967d52b4",
   "metadata": {},
   "source": [
    "Specific Solution of X(t)\n",
    "With a constant driving function, assume a constant specific solution"
   ]
  },
  {
   "cell_type": "code",
   "execution_count": 39,
   "id": "bc5fb4c6-16f0-491f-b3e1-919c5e9fcecd",
   "metadata": {},
   "outputs": [
    {
     "data": {
      "text/latex": [
       "$\\displaystyle - D_{2} \\operatorname{x_{s}}{\\left(t \\right)} + \\frac{d^{4}}{d t^{4}} \\operatorname{x_{s}}{\\left(t \\right)} = D_{1}$"
      ],
      "text/plain": [
       "              4            \n",
       "             d             \n",
       "-D₂⋅xₛ(t) + ───(xₛ(t)) = D₁\n",
       "              4            \n",
       "            dt             "
      ]
     },
     "execution_count": 39,
     "metadata": {},
     "output_type": "execute_result"
    }
   ],
   "source": [
    "xs_eq = Eq(d4xdt4_eq.lhs-D2*x,d4xdt4_eq.rhs-D2*x)\n",
    "xs_eq = Eq(xs_eq.lhs.subs(x,xs),xs_eq.rhs.subs(x,xs))\n",
    "xs_eq"
   ]
  },
  {
   "cell_type": "code",
   "execution_count": 40,
   "id": "7e9e2b1d-1d22-463a-a403-ca1b35b05c36",
   "metadata": {},
   "outputs": [
    {
     "data": {
      "text/latex": [
       "$\\displaystyle D_{1} + \\frac{\\partial^{4}}{\\partial t^{4}} \\left(- \\frac{D_{1}}{D_{2}}\\right) = D_{1}$"
      ],
      "text/plain": [
       "       4           \n",
       "      ∂ ⎛-D₁ ⎞     \n",
       "D₁ + ───⎜────⎟ = D₁\n",
       "       4⎝ D₂ ⎠     \n",
       "     ∂t            "
      ]
     },
     "execution_count": 40,
     "metadata": {},
     "output_type": "execute_result"
    }
   ],
   "source": [
    "xs_sol = -D1/D2;\n",
    "xs_sol_ver = Eq(xs_eq.lhs.subs(xs,xs_sol),xs_eq.rhs.subs(xs,xs_sol))\n",
    "xs_sol_ver"
   ]
  },
  {
   "cell_type": "code",
   "execution_count": 41,
   "id": "b4eb9a34-ebc0-468e-9574-67a35ccc23a9",
   "metadata": {},
   "outputs": [
    {
     "data": {
      "text/latex": [
       "$\\displaystyle \\operatorname{x_{s}}{\\left(t \\right)} = - \\frac{D_{1}}{D_{2}}$"
      ],
      "text/plain": [
       "        -D₁ \n",
       "xₛ(t) = ────\n",
       "         D₂ "
      ]
     },
     "execution_count": 41,
     "metadata": {},
     "output_type": "execute_result"
    }
   ],
   "source": [
    "Eq(xs,xs_sol)"
   ]
  },
  {
   "cell_type": "markdown",
   "id": "df319963-05d8-496a-965c-74a385ff8219",
   "metadata": {},
   "source": [
    "General Solution of X(t)"
   ]
  },
  {
   "cell_type": "code",
   "execution_count": 42,
   "id": "74fa4513-1ded-43f9-95c2-dd25292b8341",
   "metadata": {},
   "outputs": [
    {
     "data": {
      "text/latex": [
       "$\\displaystyle - D_{2} \\operatorname{x_{g}}{\\left(t \\right)} + \\frac{d^{4}}{d t^{4}} \\operatorname{x_{g}}{\\left(t \\right)} = 0$"
      ],
      "text/plain": [
       "               4            \n",
       "              d             \n",
       "-D₂⋅x_g(t) + ───(x_g(t)) = 0\n",
       "               4            \n",
       "             dt             "
      ]
     },
     "execution_count": 42,
     "metadata": {},
     "output_type": "execute_result"
    }
   ],
   "source": [
    "xg_eq = Eq(xs_eq.lhs.subs(xs,xg),xs_eq.rhs-D1)\n",
    "xg_eq"
   ]
  },
  {
   "cell_type": "code",
   "execution_count": 43,
   "id": "5d5f12ad-527a-412d-bcd5-9e99e6d6bcdc",
   "metadata": {},
   "outputs": [
    {
     "data": {
      "text/latex": [
       "$\\displaystyle \\operatorname{x_{g}}{\\left(t \\right)} = E_{1} e^{- \\sqrt[4]{D_{2}} t} + E_{2} e^{\\sqrt[4]{D_{2}} t} + E_{3} \\sin{\\left(\\sqrt[4]{D_{2}} t \\right)} + E_{4} \\cos{\\left(\\sqrt[4]{D_{2}} t \\right)}$"
      ],
      "text/plain": [
       "              4 ____         4 ____                                        \n",
       "             -╲╱ D₂ ⋅t       ╲╱ D₂ ⋅t         ⎛4 ____  ⎞         ⎛4 ____  ⎞\n",
       "x_g(t) = E₁⋅ℯ          + E₂⋅ℯ         + E₃⋅sin⎝╲╱ D₂ ⋅t⎠ + E₄⋅cos⎝╲╱ D₂ ⋅t⎠"
      ]
     },
     "execution_count": 43,
     "metadata": {},
     "output_type": "execute_result"
    }
   ],
   "source": [
    "e1,e2,e3,e4 = symbols(\"E_1 E_2 E_3 E_4\")\n",
    "xg_sol = dsolve(xg_eq.lhs, xg).subs(\"C1\",e1).subs(\"C2\",e2).subs(\"C3\",e3).subs(\"C4\",e4)\n",
    "expTerm1 = exp(-I*root(D2,4)*t)\n",
    "expTerm2 = exp(I*root(D2,4)*t)\n",
    "trigTerm1 = sin(root(D2,4)*t)\n",
    "trigTerm2 = cos(root(D2,4)*t)\n",
    "xg_sol = xg_sol.subs(e3*expTerm1,e3*trigTerm1).subs(e4*expTerm2,e4*trigTerm2)\n",
    "xg_sol"
   ]
  },
  {
   "cell_type": "markdown",
   "id": "335a3f2f-f699-4ac4-aa05-4f637cd701c8",
   "metadata": {},
   "source": [
    "Complete solution for x(t)"
   ]
  },
  {
   "cell_type": "code",
   "execution_count": 44,
   "id": "042dba3d-de77-4171-8315-ec423d5b4b02",
   "metadata": {},
   "outputs": [
    {
     "data": {
      "text/latex": [
       "$\\displaystyle x{\\left(t \\right)} = - \\frac{D_{1}}{D_{2}} + E_{1} e^{- \\sqrt[4]{D_{2}} t} + E_{2} e^{\\sqrt[4]{D_{2}} t} + E_{3} \\sin{\\left(\\sqrt[4]{D_{2}} t \\right)} + E_{4} \\cos{\\left(\\sqrt[4]{D_{2}} t \\right)}$"
      ],
      "text/plain": [
       "                   4 ____         4 ____                                      \n",
       "         D₁       -╲╱ D₂ ⋅t       ╲╱ D₂ ⋅t         ⎛4 ____  ⎞         ⎛4 ____ \n",
       "x(t) = - ── + E₁⋅ℯ          + E₂⋅ℯ         + E₃⋅sin⎝╲╱ D₂ ⋅t⎠ + E₄⋅cos⎝╲╱ D₂ ⋅\n",
       "         D₂                                                                   \n",
       "\n",
       "  \n",
       " ⎞\n",
       "t⎠\n",
       "  "
      ]
     },
     "execution_count": 44,
     "metadata": {},
     "output_type": "execute_result"
    }
   ],
   "source": [
    "x_complete = Eq(x_complete.lhs,x_complete.rhs.subs(xs,xs_sol).subs(xg,xg_sol.rhs))\n",
    "x_complete"
   ]
  },
  {
   "cell_type": "markdown",
   "id": "052d43a0-e8c6-4dba-a199-a24609fc20b4",
   "metadata": {},
   "source": [
    "Specific Solution of Y(t)\n",
    "With a constant driving function, assume a constant specific solution"
   ]
  },
  {
   "cell_type": "code",
   "execution_count": 45,
   "id": "5f5c002e-e860-490d-bb49-12754d3c4a52",
   "metadata": {},
   "outputs": [
    {
     "data": {
      "text/latex": [
       "$\\displaystyle - D_{4} \\operatorname{y_{s}}{\\left(t \\right)} + \\frac{d^{4}}{d t^{4}} \\operatorname{y_{s}}{\\left(t \\right)} = D_{3}$"
      ],
      "text/plain": [
       "              4            \n",
       "             d             \n",
       "-D₄⋅yₛ(t) + ───(yₛ(t)) = D₃\n",
       "              4            \n",
       "            dt             "
      ]
     },
     "execution_count": 45,
     "metadata": {},
     "output_type": "execute_result"
    }
   ],
   "source": [
    "ys_eq = Eq(d4ydt4_eq.lhs-D4*y,d4ydt4_eq.rhs-D4*y)\n",
    "ys_eq = Eq(ys_eq.lhs.subs(y,ys),ys_eq.rhs.subs(y,ys))\n",
    "ys_eq"
   ]
  },
  {
   "cell_type": "code",
   "execution_count": 46,
   "id": "8c1fa773-ff8c-4a80-a9ce-2385bab491eb",
   "metadata": {},
   "outputs": [
    {
     "data": {
      "text/latex": [
       "$\\displaystyle D_{3} + \\frac{\\partial^{4}}{\\partial t^{4}} \\left(- \\frac{D_{3}}{D_{4}}\\right) = D_{3}$"
      ],
      "text/plain": [
       "       4           \n",
       "      ∂ ⎛-D₃ ⎞     \n",
       "D₃ + ───⎜────⎟ = D₃\n",
       "       4⎝ D₄ ⎠     \n",
       "     ∂t            "
      ]
     },
     "execution_count": 46,
     "metadata": {},
     "output_type": "execute_result"
    }
   ],
   "source": [
    "ys_sol = -D3/D4\n",
    "ys_sol_ver = Eq(ys_eq.lhs.subs(ys,ys_sol),ys_eq.rhs.subs(ys,ys_sol))\n",
    "ys_sol_ver"
   ]
  },
  {
   "cell_type": "code",
   "execution_count": 47,
   "id": "909f3012-0bba-4bb0-8cf2-70e1b4e34211",
   "metadata": {},
   "outputs": [
    {
     "data": {
      "text/latex": [
       "$\\displaystyle \\operatorname{y_{s}}{\\left(t \\right)} = - \\frac{D_{3}}{D_{4}}$"
      ],
      "text/plain": [
       "        -D₃ \n",
       "yₛ(t) = ────\n",
       "         D₄ "
      ]
     },
     "execution_count": 47,
     "metadata": {},
     "output_type": "execute_result"
    }
   ],
   "source": [
    "Eq(ys,ys_sol)"
   ]
  },
  {
   "cell_type": "markdown",
   "id": "0fb9dfbc-960c-433e-9768-ae1069aaeca6",
   "metadata": {},
   "source": [
    "General Solution of y(t)"
   ]
  },
  {
   "cell_type": "code",
   "execution_count": 48,
   "id": "550a74ff-5cee-4dd8-b56f-78dd8524e621",
   "metadata": {},
   "outputs": [
    {
     "data": {
      "text/latex": [
       "$\\displaystyle - D_{4} \\operatorname{y_{g}}{\\left(t \\right)} + \\frac{d^{4}}{d t^{4}} \\operatorname{y_{g}}{\\left(t \\right)} = 0$"
      ],
      "text/plain": [
       "               4            \n",
       "              d             \n",
       "-D₄⋅y_g(t) + ───(y_g(t)) = 0\n",
       "               4            \n",
       "             dt             "
      ]
     },
     "execution_count": 48,
     "metadata": {},
     "output_type": "execute_result"
    }
   ],
   "source": [
    "yg_eq = Eq(ys_eq.lhs.subs(ys,yg),ys_eq.rhs-D3)\n",
    "yg_eq"
   ]
  },
  {
   "cell_type": "code",
   "execution_count": 49,
   "id": "f12f0c90-29b3-4e4f-8f93-2c63d121d316",
   "metadata": {},
   "outputs": [
    {
     "data": {
      "text/latex": [
       "$\\displaystyle \\operatorname{y_{g}}{\\left(t \\right)} = F_{1} e^{- \\sqrt[4]{D_{4}} t} + F_{2} e^{\\sqrt[4]{D_{4}} t} + F_{3} \\sin{\\left(\\sqrt[4]{D_{4}} t \\right)} + F_{4} \\cos{\\left(\\sqrt[4]{D_{4}} t \\right)}$"
      ],
      "text/plain": [
       "              4 ____         4 ____                                        \n",
       "             -╲╱ D₄ ⋅t       ╲╱ D₄ ⋅t         ⎛4 ____  ⎞         ⎛4 ____  ⎞\n",
       "y_g(t) = F₁⋅ℯ          + F₂⋅ℯ         + F₃⋅sin⎝╲╱ D₄ ⋅t⎠ + F₄⋅cos⎝╲╱ D₄ ⋅t⎠"
      ]
     },
     "execution_count": 49,
     "metadata": {},
     "output_type": "execute_result"
    }
   ],
   "source": [
    "F1,F2,F3,F4 = symbols(\"F_1 F_2 F_3 F_4\")\n",
    "yg_sol = dsolve(yg_eq.lhs, yg).subs(\"C1\",F1).subs(\"C2\",F2).subs(\"C3\",F3).subs(\"C4\",F4)\n",
    "expTerm1 = exp(-I*root(D4,4)*t)\n",
    "expTerm2 = exp(I*root(D4,4)*t)\n",
    "trigTerm1 = sin(root(D4,4)*t)\n",
    "trigTerm2 = cos(root(D4,4)*t)\n",
    "yg_sol = yg_sol.subs(F3*expTerm1,F3*trigTerm1).subs(F4*expTerm2,F4*trigTerm2)\n",
    "yg_sol"
   ]
  },
  {
   "cell_type": "markdown",
   "id": "f91f8156-7203-4941-b4f9-8b2c8631d85d",
   "metadata": {},
   "source": [
    "Complete Solution of y(t)"
   ]
  },
  {
   "cell_type": "code",
   "execution_count": 50,
   "id": "7a0f104b-ce02-4693-b03b-4367265f82ad",
   "metadata": {},
   "outputs": [
    {
     "data": {
      "text/latex": [
       "$\\displaystyle y{\\left(t \\right)} = - \\frac{D_{3}}{D_{4}} + F_{1} e^{- \\sqrt[4]{D_{4}} t} + F_{2} e^{\\sqrt[4]{D_{4}} t} + F_{3} \\sin{\\left(\\sqrt[4]{D_{4}} t \\right)} + F_{4} \\cos{\\left(\\sqrt[4]{D_{4}} t \\right)}$"
      ],
      "text/plain": [
       "                   4 ____         4 ____                                      \n",
       "         D₃       -╲╱ D₄ ⋅t       ╲╱ D₄ ⋅t         ⎛4 ____  ⎞         ⎛4 ____ \n",
       "y(t) = - ── + F₁⋅ℯ          + F₂⋅ℯ         + F₃⋅sin⎝╲╱ D₄ ⋅t⎠ + F₄⋅cos⎝╲╱ D₄ ⋅\n",
       "         D₄                                                                   \n",
       "\n",
       "  \n",
       " ⎞\n",
       "t⎠\n",
       "  "
      ]
     },
     "execution_count": 50,
     "metadata": {},
     "output_type": "execute_result"
    }
   ],
   "source": [
    "y_complete = Eq(y_complete.lhs,y_complete.rhs.subs(ys,ys_sol).subs(yg,yg_sol.rhs))\n",
    "y_complete"
   ]
  },
  {
   "cell_type": "markdown",
   "id": "4962f71b-389e-4941-8087-d5eec5a86c9c",
   "metadata": {},
   "source": [
    "<h1>Evaluating the complete solutions and their derivatives at t=0</h1>\n",
    "<b>Equation #1: X</b>"
   ]
  },
  {
   "cell_type": "code",
   "execution_count": 82,
   "id": "66bc50a4-1479-4f8f-ba83-e2e0e0e8fd52",
   "metadata": {},
   "outputs": [
    {
     "data": {
      "text/latex": [
       "$\\displaystyle x{\\left(0 \\right)} = - \\frac{D_{1}}{D_{2}} + E_{1} + E_{2} + E_{4}$"
      ],
      "text/plain": [
       "         D₁               \n",
       "x(0) = - ── + E₁ + E₂ + E₄\n",
       "         D₂               "
      ]
     },
     "execution_count": 82,
     "metadata": {},
     "output_type": "execute_result"
    }
   ],
   "source": [
    "x_comp0 = Eq(x_complete.lhs.subs(t,0),x_complete.rhs.subs(t,0))\n",
    "x_comp0"
   ]
  },
  {
   "cell_type": "markdown",
   "id": "7b19c4ed-e480-4ea7-a823-54b14e837af7",
   "metadata": {},
   "source": [
    "Eq(x.subs(t,0),xo)"
   ]
  },
  {
   "cell_type": "code",
   "execution_count": 124,
   "id": "560181d3-895a-4231-96fa-0791ceee2e4b",
   "metadata": {},
   "outputs": [
    {
     "data": {
      "text/latex": [
       "$\\displaystyle \\frac{D_{1}}{D_{2}} + x_{o} = E_{1} + E_{2} + E_{4}$"
      ],
      "text/plain": [
       "D₁                    \n",
       "── + xₒ = E₁ + E₂ + E₄\n",
       "D₂                    "
      ]
     },
     "execution_count": 124,
     "metadata": {},
     "output_type": "execute_result"
    }
   ],
   "source": [
    "coeff1_eq = Eq(xo+D1/D2,x_comp0.rhs+D1/D2)\n",
    "coeff1_eq"
   ]
  },
  {
   "cell_type": "markdown",
   "id": "8a9f6b9d-5312-4dc7-aaee-e1248878fc72",
   "metadata": {},
   "source": [
    "<b>Equation #2: X'</b>"
   ]
  },
  {
   "cell_type": "code",
   "execution_count": 52,
   "id": "3ca3076f-b335-4035-8164-fcf20a2c6cfd",
   "metadata": {},
   "outputs": [
    {
     "data": {
      "text/latex": [
       "$\\displaystyle \\left. \\frac{d}{d t} x{\\left(t \\right)} \\right|_{\\substack{ t=0 }} = - \\sqrt[4]{D_{2}} E_{1} + \\sqrt[4]{D_{2}} E_{2} + \\sqrt[4]{D_{2}} E_{3}$"
      ],
      "text/plain": [
       "⎛d       ⎞│        4 ____      4 ____      4 ____   \n",
       "⎜──(x(t))⎟│    = - ╲╱ D₂ ⋅E₁ + ╲╱ D₂ ⋅E₂ + ╲╱ D₂ ⋅E₃\n",
       "⎝dt      ⎠│t=0                                      "
      ]
     },
     "execution_count": 52,
     "metadata": {},
     "output_type": "execute_result"
    }
   ],
   "source": [
    "dxdt_comp0 = Eq(diff(x_complete.lhs,t).subs(t,0),diff(x_complete.rhs,t).subs(t,0))\n",
    "dxdt_comp0"
   ]
  },
  {
   "cell_type": "code",
   "execution_count": 78,
   "id": "cc06c4aa-db34-43d6-ad37-b91734935c46",
   "metadata": {},
   "outputs": [
    {
     "data": {
      "text/latex": [
       "$\\displaystyle \\left. \\frac{d}{d t} x{\\left(t \\right)} \\right|_{\\substack{ t=0 }} = \\frac{c^{2} k_{xo}}{\\omega}$"
      ],
      "text/plain": [
       "                  2    \n",
       "⎛d       ⎞│      c ⋅kₓₒ\n",
       "⎜──(x(t))⎟│    = ──────\n",
       "⎝dt      ⎠│t=0     ω   "
      ]
     },
     "execution_count": 78,
     "metadata": {},
     "output_type": "execute_result"
    }
   ],
   "source": [
    "precoeffEq2 = Eq(dxdt_eq.lhs.subs(t,0),dxdt_eq.rhs.subs(w,'omega').subs(kx,kxo))\n",
    "precoeffEq2"
   ]
  },
  {
   "cell_type": "code",
   "execution_count": 134,
   "id": "22b8864e-6093-4037-ae53-2f3172092d69",
   "metadata": {},
   "outputs": [
    {
     "data": {
      "text/latex": [
       "$\\displaystyle \\frac{c^{2} k_{xo}}{\\sqrt[4]{D_{2}} \\omega} = - E_{1} + E_{2} + E_{3}$"
      ],
      "text/plain": [
       "  2                     \n",
       " c ⋅kₓₒ                 \n",
       "──────── = -E₁ + E₂ + E₃\n",
       "4 ____                  \n",
       "╲╱ D₂ ⋅ω                "
      ]
     },
     "execution_count": 134,
     "metadata": {},
     "output_type": "execute_result"
    }
   ],
   "source": [
    "coeff2_eq = Eq(precoeffEq2.rhs/root(D2,4),simplify(dxdt_comp0.rhs/root(D2,4)))\n",
    "coeff2_eq"
   ]
  },
  {
   "cell_type": "markdown",
   "id": "5edc8d75-5cb1-4840-91fd-3973ded05c35",
   "metadata": {},
   "source": [
    "<b>Equation #3: X''</b>"
   ]
  },
  {
   "cell_type": "code",
   "execution_count": 53,
   "id": "93e6a47a-f837-49bf-9155-a84a0e8b7931",
   "metadata": {},
   "outputs": [
    {
     "data": {
      "text/latex": [
       "$\\displaystyle \\left. \\frac{d^{2}}{d t^{2}} x{\\left(t \\right)} \\right|_{\\substack{ t=0 }} = \\sqrt{D_{2}} \\left(E_{1} + E_{2} - E_{4}\\right)$"
      ],
      "text/plain": [
       "⎛  2      ⎞│                           \n",
       "⎜ d       ⎟│        ____               \n",
       "⎜───(x(t))⎟│    = ╲╱ D₂ ⋅(E₁ + E₂ - E₄)\n",
       "⎜  2      ⎟│                           \n",
       "⎝dt       ⎠│t=0                        "
      ]
     },
     "execution_count": 53,
     "metadata": {},
     "output_type": "execute_result"
    }
   ],
   "source": [
    "d2xdt2_comp0 = Eq(diff(x_complete.lhs,t,2).subs(t,0),diff(x_complete.rhs,t,2).subs(t,0))\n",
    "d2xdt2_comp0"
   ]
  },
  {
   "cell_type": "code",
   "execution_count": 87,
   "id": "65d3e811-5360-479b-b903-e579b186f25c",
   "metadata": {},
   "outputs": [
    {
     "data": {
      "text/latex": [
       "$\\displaystyle \\left. \\frac{d^{2}}{d t^{2}} x{\\left(t \\right)} \\right|_{\\substack{ t=0 }} = C_{1} + C_{2} y_{o}$"
      ],
      "text/plain": [
       "⎛  2      ⎞│                \n",
       "⎜ d       ⎟│                \n",
       "⎜───(x(t))⎟│    = C₁ + C₂⋅yₒ\n",
       "⎜  2      ⎟│                \n",
       "⎝dt       ⎠│t=0             "
      ]
     },
     "execution_count": 87,
     "metadata": {},
     "output_type": "execute_result"
    }
   ],
   "source": [
    "precoeff3 = Eq(d2xdt2_eq.lhs.subs(t,0),d2xdt2_eq.rhs.subs(y,yo))\n",
    "precoeff3"
   ]
  },
  {
   "cell_type": "code",
   "execution_count": 90,
   "id": "28d8dd26-b8a9-4ad2-a15b-7027b73a9b33",
   "metadata": {},
   "outputs": [
    {
     "data": {
      "text/latex": [
       "$\\displaystyle \\frac{C_{1} + C_{2} y_{o}}{\\sqrt{D_{2}}} = E_{1} + E_{2} - E_{4}$"
      ],
      "text/plain": [
       "C₁ + C₂⋅yₒ               \n",
       "────────── = E₁ + E₂ - E₄\n",
       "    ____                 \n",
       "  ╲╱ D₂                  "
      ]
     },
     "execution_count": 90,
     "metadata": {},
     "output_type": "execute_result"
    }
   ],
   "source": [
    "coeff3_eq = Eq(precoeff3.rhs/root(D2,2),d2xdt2_comp0.rhs/root(D2,2))\n",
    "coeff3_eq"
   ]
  },
  {
   "cell_type": "markdown",
   "id": "9f203570-74c1-42a8-ba54-4ac4220eb12f",
   "metadata": {},
   "source": [
    "<b>Equation #4: X'''</b>"
   ]
  },
  {
   "cell_type": "code",
   "execution_count": 105,
   "id": "dfc39a1c-79b8-4dba-bb66-9261446164f6",
   "metadata": {},
   "outputs": [
    {
     "data": {
      "text/latex": [
       "$\\displaystyle \\left. \\frac{d^{3}}{d t^{3}} x{\\left(t \\right)} \\right|_{\\substack{ t=0 }} = D_{2}^{\\frac{3}{4}} \\left(- E_{1} + E_{2} - E_{3}\\right)$"
      ],
      "text/plain": [
       "⎛  3      ⎞│                           \n",
       "⎜ d       ⎟│        3/4                \n",
       "⎜───(x(t))⎟│    = D₂   ⋅(-E₁ + E₂ - E₃)\n",
       "⎜  3      ⎟│                           \n",
       "⎝dt       ⎠│t=0                        "
      ]
     },
     "execution_count": 105,
     "metadata": {},
     "output_type": "execute_result"
    }
   ],
   "source": [
    "d3xdt3_comp0 = Eq(diff(x_complete.lhs,t,3).subs(t,0),diff(x_complete.rhs,t,3).subs(t,0))\n",
    "d3xdt3_comp0"
   ]
  },
  {
   "cell_type": "code",
   "execution_count": 100,
   "id": "a80bd900-7cce-4cea-9f16-5195b03fdb06",
   "metadata": {},
   "outputs": [
    {
     "data": {
      "text/latex": [
       "$\\displaystyle \\left. \\frac{d^{3}}{d t^{3}} x{\\left(t \\right)} \\right|_{\\substack{ t=0 }} = C_{2} \\frac{d}{d t} y_{o}$"
      ],
      "text/plain": [
       "⎛  3      ⎞│               \n",
       "⎜ d       ⎟│         d     \n",
       "⎜───(x(t))⎟│    = C₂⋅──(yₒ)\n",
       "⎜  3      ⎟│         dt    \n",
       "⎝dt       ⎠│t=0            "
      ]
     },
     "execution_count": 100,
     "metadata": {},
     "output_type": "execute_result"
    }
   ],
   "source": [
    "precoeff4a = Eq(diff(d2xdt2_eq.lhs,t).subs(t,0),diff(d2xdt2_eq.rhs,t).subs(y,yo))\n",
    "precoeff4a"
   ]
  },
  {
   "cell_type": "code",
   "execution_count": 101,
   "id": "3eb8faf5-d533-477b-a064-2a122e3d35f0",
   "metadata": {},
   "outputs": [
    {
     "data": {
      "text/latex": [
       "$\\displaystyle \\frac{d}{d t} y_{o} = \\frac{c^{2} k_{yo}}{\\omega}$"
      ],
      "text/plain": [
       "          2     \n",
       "d        c ⋅k_yo\n",
       "──(yₒ) = ───────\n",
       "dt          ω   "
      ]
     },
     "execution_count": 101,
     "metadata": {},
     "output_type": "execute_result"
    }
   ],
   "source": [
    "precoeff4b = Eq(dydt_eq.lhs.subs(y,yo),dydt_eq.subs(w,'omega').rhs.subs(ky,kyo))\n",
    "precoeff4b"
   ]
  },
  {
   "cell_type": "code",
   "execution_count": 102,
   "id": "b8049849-7738-4c1a-9818-b47c0297881a",
   "metadata": {},
   "outputs": [
    {
     "data": {
      "text/latex": [
       "$\\displaystyle \\left. \\frac{d^{3}}{d t^{3}} x{\\left(t \\right)} \\right|_{\\substack{ t=0 }} = \\frac{C_{2} c^{2} k_{yo}}{\\omega}$"
      ],
      "text/plain": [
       "⎛  3      ⎞│          2     \n",
       "⎜ d       ⎟│      C₂⋅c ⋅k_yo\n",
       "⎜───(x(t))⎟│    = ──────────\n",
       "⎜  3      ⎟│          ω     \n",
       "⎝dt       ⎠│t=0             "
      ]
     },
     "execution_count": 102,
     "metadata": {},
     "output_type": "execute_result"
    }
   ],
   "source": [
    "precoeff4c = Eq(precoeff4a.lhs,precoeff4a.rhs.subs(diff(yo,t,evaluate=False),precoeff4b.rhs))\n",
    "precoeff4c"
   ]
  },
  {
   "cell_type": "code",
   "execution_count": 145,
   "id": "d2731bcd-8649-4bb8-b7f5-c7671b971207",
   "metadata": {},
   "outputs": [
    {
     "data": {
      "text/latex": [
       "$\\displaystyle \\frac{C_{2} c^{2} k_{yo}}{D_{2}^{0.75} \\omega} = - E_{1} + E_{2} - E_{3}$"
      ],
      "text/plain": [
       "     -0.75  2                     \n",
       "C₂⋅D₂     ⋅c ⋅k_yo                \n",
       "────────────────── = -E₁ + E₂ - E₃\n",
       "        ω                         "
      ]
     },
     "execution_count": 145,
     "metadata": {},
     "output_type": "execute_result"
    }
   ],
   "source": [
    "coeff4_eq = Eq(precoeff4c.rhs/D2**(3/4),d3xdt3_comp0.rhs/D2**(3/4))\n",
    "coeff4_eq"
   ]
  },
  {
   "cell_type": "markdown",
   "id": "f40863b7-0152-4b63-901a-82ba50bc9efe",
   "metadata": {},
   "source": [
    "<b>Equation 5: Y</b>"
   ]
  },
  {
   "cell_type": "code",
   "execution_count": 56,
   "id": "356e3004-bc7b-477c-9434-c85f00885679",
   "metadata": {},
   "outputs": [
    {
     "data": {
      "text/latex": [
       "$\\displaystyle y{\\left(0 \\right)} = - \\frac{D_{3}}{D_{4}} + F_{1} + F_{2} + F_{4}$"
      ],
      "text/plain": [
       "         D₃               \n",
       "y(0) = - ── + F₁ + F₂ + F₄\n",
       "         D₄               "
      ]
     },
     "execution_count": 56,
     "metadata": {},
     "output_type": "execute_result"
    }
   ],
   "source": [
    "y_comp0 = Eq(y_complete.lhs.subs(t,0),y_complete.rhs.subs(t,0))\n",
    "y_comp0"
   ]
  },
  {
   "cell_type": "code",
   "execution_count": 106,
   "id": "623331dd-9221-4148-9016-9930db2fe1bb",
   "metadata": {},
   "outputs": [
    {
     "data": {
      "text/latex": [
       "$\\displaystyle y{\\left(0 \\right)} = y_{o}$"
      ],
      "text/plain": [
       "y(0) = yₒ"
      ]
     },
     "execution_count": 106,
     "metadata": {},
     "output_type": "execute_result"
    }
   ],
   "source": [
    "precoeff5 = Eq(y.subs(t,0),yo)\n",
    "precoeff5"
   ]
  },
  {
   "cell_type": "code",
   "execution_count": 108,
   "id": "94fe8533-5342-4f8d-9b0b-4c19a8a4454f",
   "metadata": {},
   "outputs": [
    {
     "data": {
      "text/latex": [
       "$\\displaystyle \\frac{D_{3}}{D_{4}} + y_{o} = F_{1} + F_{2} + F_{4}$"
      ],
      "text/plain": [
       "D₃                    \n",
       "── + yₒ = F₁ + F₂ + F₄\n",
       "D₄                    "
      ]
     },
     "execution_count": 108,
     "metadata": {},
     "output_type": "execute_result"
    }
   ],
   "source": [
    "coeff5_eq = Eq(precoeff5.rhs+D3/D4,y_comp0.rhs+D3/D4)\n",
    "coeff5_eq"
   ]
  },
  {
   "cell_type": "markdown",
   "id": "2aeb374e-00d9-428e-9d4f-be7cea6114ab",
   "metadata": {},
   "source": [
    "<b>Equation #6: Y'</b>"
   ]
  },
  {
   "cell_type": "code",
   "execution_count": 57,
   "id": "267c4bc6-f39d-4547-908b-d24b40daec81",
   "metadata": {},
   "outputs": [
    {
     "data": {
      "text/latex": [
       "$\\displaystyle \\left. \\frac{d}{d t} y{\\left(t \\right)} \\right|_{\\substack{ t=0 }} = - \\sqrt[4]{D_{4}} F_{1} + \\sqrt[4]{D_{4}} F_{2} + \\sqrt[4]{D_{4}} F_{3}$"
      ],
      "text/plain": [
       "⎛d       ⎞│        4 ____      4 ____      4 ____   \n",
       "⎜──(y(t))⎟│    = - ╲╱ D₄ ⋅F₁ + ╲╱ D₄ ⋅F₂ + ╲╱ D₄ ⋅F₃\n",
       "⎝dt      ⎠│t=0                                      "
      ]
     },
     "execution_count": 57,
     "metadata": {},
     "output_type": "execute_result"
    }
   ],
   "source": [
    "dydt_comp0 = Eq(diff(y_complete.lhs,t).subs(t,0),diff(y_complete.rhs,t).subs(t,0))\n",
    "dydt_comp0"
   ]
  },
  {
   "cell_type": "code",
   "execution_count": 150,
   "id": "c4e877ec-3949-4eaf-af70-f063d9d08afa",
   "metadata": {},
   "outputs": [
    {
     "data": {
      "text/latex": [
       "$\\displaystyle \\left. \\frac{d}{d t} y{\\left(t \\right)} \\right|_{\\substack{ t=0 }} = \\frac{c^{2} k_{yo}}{\\omega}$"
      ],
      "text/plain": [
       "                  2     \n",
       "⎛d       ⎞│      c ⋅k_yo\n",
       "⎜──(y(t))⎟│    = ───────\n",
       "⎝dt      ⎠│t=0      ω   "
      ]
     },
     "execution_count": 150,
     "metadata": {},
     "output_type": "execute_result"
    }
   ],
   "source": [
    "precoeff6 = Eq(dydt_eq.lhs.subs(t,0),dydt_eq.subs(w,'omega').rhs.subs(ky,kyo))\n",
    "precoeff6"
   ]
  },
  {
   "cell_type": "code",
   "execution_count": 151,
   "id": "a4baee74-8ee8-4135-92ec-b990b94c5934",
   "metadata": {},
   "outputs": [
    {
     "data": {
      "text/latex": [
       "$\\displaystyle \\frac{c^{2} k_{yo}}{\\sqrt[4]{D_{4}} \\omega} = - F_{1} + F_{2} + F_{3}$"
      ],
      "text/plain": [
       " 2                      \n",
       "c ⋅k_yo                 \n",
       "──────── = -F₁ + F₂ + F₃\n",
       "4 ____                  \n",
       "╲╱ D₄ ⋅ω                "
      ]
     },
     "execution_count": 151,
     "metadata": {},
     "output_type": "execute_result"
    }
   ],
   "source": [
    "coeff6_eq = Eq(precoeff6.rhs/root(D4,4),simplify(dydt_comp0.rhs/root(D4,4)))\n",
    "coeff6_eq"
   ]
  },
  {
   "cell_type": "markdown",
   "id": "f2c65c8c-0e06-48b5-8040-3ae9873ad871",
   "metadata": {},
   "source": [
    "<b>Equation #7: Y''</b>"
   ]
  },
  {
   "cell_type": "code",
   "execution_count": 58,
   "id": "e5ff5580-f79f-4742-b668-5f99670e4882",
   "metadata": {},
   "outputs": [
    {
     "data": {
      "text/latex": [
       "$\\displaystyle \\left. \\frac{d^{2}}{d t^{2}} y{\\left(t \\right)} \\right|_{\\substack{ t=0 }} = \\sqrt{D_{4}} \\left(F_{1} + F_{2} - F_{4}\\right)$"
      ],
      "text/plain": [
       "⎛  2      ⎞│                           \n",
       "⎜ d       ⎟│        ____               \n",
       "⎜───(y(t))⎟│    = ╲╱ D₄ ⋅(F₁ + F₂ - F₄)\n",
       "⎜  2      ⎟│                           \n",
       "⎝dt       ⎠│t=0                        "
      ]
     },
     "execution_count": 58,
     "metadata": {},
     "output_type": "execute_result"
    }
   ],
   "source": [
    "d2ydt2_comp0 = Eq(diff(y_complete.lhs,t,2).subs(t,0),diff(y_complete.rhs,t,2).subs(t,0))\n",
    "d2ydt2_comp0"
   ]
  },
  {
   "cell_type": "code",
   "execution_count": 116,
   "id": "ab7c300e-aebe-4b26-8128-b2a8549306e2",
   "metadata": {},
   "outputs": [
    {
     "data": {
      "text/latex": [
       "$\\displaystyle \\left. \\frac{d^{2}}{d t^{2}} y{\\left(t \\right)} \\right|_{\\substack{ t=0 }} = C_{3} + C_{4} x_{o}$"
      ],
      "text/plain": [
       "⎛  2      ⎞│                \n",
       "⎜ d       ⎟│                \n",
       "⎜───(y(t))⎟│    = C₃ + C₄⋅xₒ\n",
       "⎜  2      ⎟│                \n",
       "⎝dt       ⎠│t=0             "
      ]
     },
     "execution_count": 116,
     "metadata": {},
     "output_type": "execute_result"
    }
   ],
   "source": [
    "precoeff7 = Eq(d2ydt2_eq.lhs.subs(t,0),d2ydt2_eq.rhs.subs(x,xo))\n",
    "precoeff7"
   ]
  },
  {
   "cell_type": "code",
   "execution_count": 117,
   "id": "64494a4c-082e-4bd8-b32f-d1c622beebd6",
   "metadata": {},
   "outputs": [
    {
     "data": {
      "text/latex": [
       "$\\displaystyle \\frac{C_{3} + C_{4} x_{o}}{\\sqrt{D_{4}}} = F_{1} + F_{2} - F_{4}$"
      ],
      "text/plain": [
       "C₃ + C₄⋅xₒ               \n",
       "────────── = F₁ + F₂ - F₄\n",
       "    ____                 \n",
       "  ╲╱ D₄                  "
      ]
     },
     "execution_count": 117,
     "metadata": {},
     "output_type": "execute_result"
    }
   ],
   "source": [
    "coeff7_eq = Eq(precoeff7.rhs/root(D4,2),d2ydt2_comp0.rhs/root(D4,2))\n",
    "coeff7_eq"
   ]
  },
  {
   "cell_type": "markdown",
   "id": "6055cccf-b7f1-412c-8ebd-2c8d961df9f1",
   "metadata": {},
   "source": [
    "<b>Equation #8: Y'''</b>"
   ]
  },
  {
   "cell_type": "code",
   "execution_count": 59,
   "id": "f0eb248e-44e1-4567-b389-66eb2f67762f",
   "metadata": {},
   "outputs": [
    {
     "data": {
      "text/latex": [
       "$\\displaystyle \\left. \\frac{d^{3}}{d t^{3}} y{\\left(t \\right)} \\right|_{\\substack{ t=0 }} = D_{4}^{\\frac{3}{4}} \\left(- F_{1} + F_{2} - F_{3}\\right)$"
      ],
      "text/plain": [
       "⎛  3      ⎞│                           \n",
       "⎜ d       ⎟│        3/4                \n",
       "⎜───(y(t))⎟│    = D₄   ⋅(-F₁ + F₂ - F₃)\n",
       "⎜  3      ⎟│                           \n",
       "⎝dt       ⎠│t=0                        "
      ]
     },
     "execution_count": 59,
     "metadata": {},
     "output_type": "execute_result"
    }
   ],
   "source": [
    "d3ydt3_comp0 = Eq(diff(y_complete.lhs,t,3).subs(t,0),diff(y_complete.rhs,t,3).subs(t,0))\n",
    "d3ydt3_comp0"
   ]
  },
  {
   "cell_type": "code",
   "execution_count": 118,
   "id": "5f8fab8a-a0c2-49b5-a81a-c57a0d24b40f",
   "metadata": {},
   "outputs": [
    {
     "data": {
      "text/latex": [
       "$\\displaystyle \\left. \\frac{d^{3}}{d t^{3}} y{\\left(t \\right)} \\right|_{\\substack{ t=0 }} = C_{4} \\frac{d}{d t} x_{o}$"
      ],
      "text/plain": [
       "⎛  3      ⎞│               \n",
       "⎜ d       ⎟│         d     \n",
       "⎜───(y(t))⎟│    = C₄⋅──(xₒ)\n",
       "⎜  3      ⎟│         dt    \n",
       "⎝dt       ⎠│t=0            "
      ]
     },
     "execution_count": 118,
     "metadata": {},
     "output_type": "execute_result"
    }
   ],
   "source": [
    "precoeff8a = Eq(diff(d2ydt2_eq.lhs,t).subs(t,0),diff(d2ydt2_eq.rhs,t).subs(x,xo))\n",
    "precoeff8a"
   ]
  },
  {
   "cell_type": "code",
   "execution_count": 119,
   "id": "c82a22cc-90a5-49e0-b5c7-fccc03ae5f03",
   "metadata": {},
   "outputs": [
    {
     "data": {
      "text/latex": [
       "$\\displaystyle \\frac{d}{d t} x_{o} = \\frac{c^{2} k_{xo}}{\\omega}$"
      ],
      "text/plain": [
       "          2    \n",
       "d        c ⋅kₓₒ\n",
       "──(xₒ) = ──────\n",
       "dt         ω   "
      ]
     },
     "execution_count": 119,
     "metadata": {},
     "output_type": "execute_result"
    }
   ],
   "source": [
    "precoeff8b = Eq(dxdt_eq.lhs.subs(x,xo),dxdt_eq.subs(w,'omega').rhs.subs(kx,kxo))\n",
    "precoeff8b"
   ]
  },
  {
   "cell_type": "code",
   "execution_count": 120,
   "id": "f30a4040-e0fd-4c85-ba32-253f2e32d65a",
   "metadata": {},
   "outputs": [
    {
     "data": {
      "text/latex": [
       "$\\displaystyle \\left. \\frac{d^{3}}{d t^{3}} y{\\left(t \\right)} \\right|_{\\substack{ t=0 }} = \\frac{C_{4} c^{2} k_{xo}}{\\omega}$"
      ],
      "text/plain": [
       "⎛  3      ⎞│          2    \n",
       "⎜ d       ⎟│      C₄⋅c ⋅kₓₒ\n",
       "⎜───(y(t))⎟│    = ─────────\n",
       "⎜  3      ⎟│          ω    \n",
       "⎝dt       ⎠│t=0            "
      ]
     },
     "execution_count": 120,
     "metadata": {},
     "output_type": "execute_result"
    }
   ],
   "source": [
    "precoeff8c = Eq(precoeff8a.lhs,precoeff8a.rhs.subs(diff(xo,t,evaluate=False),precoeff8b.rhs))\n",
    "precoeff8c"
   ]
  },
  {
   "cell_type": "code",
   "execution_count": 122,
   "id": "32140ce5-eb2b-4b0d-b095-3fc40079beae",
   "metadata": {},
   "outputs": [
    {
     "data": {
      "text/latex": [
       "$\\displaystyle \\frac{C_{4} c^{2} k_{xo}}{D_{4}^{0.75} \\omega} = - F_{1} + F_{2} - F_{3}$"
      ],
      "text/plain": [
       "     -0.75  2                    \n",
       "C₄⋅D₄     ⋅c ⋅kₓₒ                \n",
       "───────────────── = -F₁ + F₂ - F₃\n",
       "        ω                        "
      ]
     },
     "execution_count": 122,
     "metadata": {},
     "output_type": "execute_result"
    }
   ],
   "source": [
    "coeff8_eq = Eq(precoeff8c.rhs/D4**(3/4),d3ydt3_comp0.rhs/D4**(3/4))\n",
    "coeff8_eq"
   ]
  },
  {
   "cell_type": "markdown",
   "id": "972cb48c-a521-4478-a3e3-bd14aae47ea4",
   "metadata": {},
   "source": [
    "<h1>Solving for coefficients of the x(t) complete solution</h1>"
   ]
  },
  {
   "cell_type": "code",
   "execution_count": 172,
   "id": "f3414457-da74-4880-abb3-5d508f184c55",
   "metadata": {},
   "outputs": [
    {
     "data": {
      "text/latex": [
       "$\\displaystyle E_{1} = - \\frac{C_{2} c^{2} k_{yo}}{4 D_{2}^{0.75} \\omega} + \\frac{D_{1}}{4 D_{2}} + \\frac{x_{o}}{4} + \\frac{C_{1} + C_{2} y_{o}}{4 \\sqrt{D_{2}}} - \\frac{c^{2} k_{xo}}{4 \\sqrt[4]{D_{2}} \\omega}$"
      ],
      "text/plain": [
       "            -0.75  2                                    2      \n",
       "       C₂⋅D₂     ⋅c ⋅k_yo    D₁    xₒ   C₁ + C₂⋅yₒ     c ⋅kₓₒ  \n",
       "E₁ = - ────────────────── + ──── + ── + ────────── - ──────────\n",
       "              4⋅ω           4⋅D₂   4         ____      4 ____  \n",
       "                                         4⋅╲╱ D₂     4⋅╲╱ D₂ ⋅ω"
      ]
     },
     "execution_count": 172,
     "metadata": {},
     "output_type": "execute_result"
    }
   ],
   "source": [
    "A_mat = Matrix([[1,1,0,1],[-1,1,1,0],[1,1,0,-1],[-1,1,-1,0]])\n",
    "A_inv = A_mat**(-1)\n",
    "G1,G2,G3,G4 = symbols(\"G_1 G_2 G_3 G_4\")\n",
    "G1_val = coeff1_eq.lhs\n",
    "G2_val = coeff2_eq.lhs\n",
    "G3_val = coeff3_eq.lhs\n",
    "G4_val = coeff4_eq.lhs\n",
    "G_vec = Matrix([G1,G2,G3,G4])\n",
    "E_vec = A_inv*G_vec\n",
    "E1_val = E_vec.row(0)[0].subs([[G1,G1_val],[G2,G2_val],[G3,G3_val],[G4,G4_val]]).subs(w,'omega')\n",
    "Eq(e1,E1_val)\n"
   ]
  },
  {
   "cell_type": "code",
   "execution_count": 174,
   "id": "cb44c375-178f-440f-bf7f-6c407f16ad9e",
   "metadata": {},
   "outputs": [
    {
     "data": {
      "text/latex": [
       "$\\displaystyle E_{2} = \\frac{C_{2} c^{2} k_{yo}}{4 D_{2}^{0.75} \\omega} + \\frac{D_{1}}{4 D_{2}} + \\frac{x_{o}}{4} + \\frac{C_{1} + C_{2} y_{o}}{4 \\sqrt{D_{2}}} + \\frac{c^{2} k_{xo}}{4 \\sqrt[4]{D_{2}} \\omega}$"
      ],
      "text/plain": [
       "          -0.75  2                                    2      \n",
       "     C₂⋅D₂     ⋅c ⋅k_yo    D₁    xₒ   C₁ + C₂⋅yₒ     c ⋅kₓₒ  \n",
       "E₂ = ────────────────── + ──── + ── + ────────── + ──────────\n",
       "            4⋅ω           4⋅D₂   4         ____      4 ____  \n",
       "                                       4⋅╲╱ D₂     4⋅╲╱ D₂ ⋅ω"
      ]
     },
     "execution_count": 174,
     "metadata": {},
     "output_type": "execute_result"
    }
   ],
   "source": [
    "E2_val = E_vec.row(1)[0].subs([[G1,G1_val],[G2,G2_val],[G3,G3_val],[G4,G4_val]]).subs(w,'omega')\n",
    "Eq(e2,E2_val)"
   ]
  },
  {
   "cell_type": "code",
   "execution_count": 175,
   "id": "14f233ee-3a0f-4865-8c92-be8f7f373f3d",
   "metadata": {},
   "outputs": [
    {
     "data": {
      "text/latex": [
       "$\\displaystyle E_{3} = - \\frac{C_{2} c^{2} k_{yo}}{2 D_{2}^{0.75} \\omega} + \\frac{c^{2} k_{xo}}{2 \\sqrt[4]{D_{2}} \\omega}$"
      ],
      "text/plain": [
       "            -0.75  2           2      \n",
       "       C₂⋅D₂     ⋅c ⋅k_yo     c ⋅kₓₒ  \n",
       "E₃ = - ────────────────── + ──────────\n",
       "              2⋅ω             4 ____  \n",
       "                            2⋅╲╱ D₂ ⋅ω"
      ]
     },
     "execution_count": 175,
     "metadata": {},
     "output_type": "execute_result"
    }
   ],
   "source": [
    "E3_val = E_vec.row(2)[0].subs([[G1,G1_val],[G2,G2_val],[G3,G3_val],[G4,G4_val]]).subs(w,'omega')\n",
    "Eq(e3,E3_val)"
   ]
  },
  {
   "cell_type": "code",
   "execution_count": 149,
   "id": "815dd286-2200-4e03-9b80-817b1b9af1b3",
   "metadata": {},
   "outputs": [
    {
     "data": {
      "text/latex": [
       "$\\displaystyle E_{4} = \\frac{D_{1}}{2 D_{2}} + \\frac{x_{o}}{2} - \\frac{C_{1} + C_{2} y_{o}}{2 \\sqrt{D_{2}}}$"
      ],
      "text/plain": [
       "      D₁    xₒ   C₁ + C₂⋅yₒ\n",
       "E₄ = ──── + ── - ──────────\n",
       "     2⋅D₂   2         ____ \n",
       "                  2⋅╲╱ D₂  "
      ]
     },
     "execution_count": 149,
     "metadata": {},
     "output_type": "execute_result"
    }
   ],
   "source": [
    "E4_val = E_vec.row(3)[0].subs([[G1,G1_val],[G2,G2_val],[G3,G3_val],[G4,G4_val]]).subs(w,'omega')\n",
    "Eq(e4,E4_val)"
   ]
  },
  {
   "cell_type": "markdown",
   "id": "edbc70a8-edb6-4387-85b9-6f3b65026b10",
   "metadata": {},
   "source": [
    "<h1>Solving for coefficients of the y(t) complete solution</h1>"
   ]
  },
  {
   "cell_type": "code",
   "execution_count": 164,
   "id": "c18e0b3a-36d9-4485-91e7-7db0591dc868",
   "metadata": {},
   "outputs": [
    {
     "data": {
      "text/latex": [
       "$\\displaystyle F_{1} = - \\frac{C_{4} c^{2} k_{xo}}{4 D_{4}^{0.75} \\omega} + \\frac{D_{3}}{4 D_{4}} + \\frac{y_{o}}{4} + \\frac{C_{3} + C_{4} x_{o}}{4 \\sqrt{D_{4}}} - \\frac{c^{2} k_{yo}}{4 \\sqrt[4]{D_{4}} \\omega}$"
      ],
      "text/plain": [
       "            -0.75  2                                  2       \n",
       "       C₄⋅D₄     ⋅c ⋅kₓₒ    D₃    yₒ   C₃ + C₄⋅xₒ    c ⋅k_yo  \n",
       "F₁ = - ───────────────── + ──── + ── + ────────── - ──────────\n",
       "              4⋅ω          4⋅D₄   4         ____      4 ____  \n",
       "                                        4⋅╲╱ D₄     4⋅╲╱ D₄ ⋅ω"
      ]
     },
     "execution_count": 164,
     "metadata": {},
     "output_type": "execute_result"
    }
   ],
   "source": [
    "B_mat = Matrix([[1,1,0,1],[-1,1,1,0],[1,1,0,-1],[-1,1,-1,0]])\n",
    "B_inv = A_mat**(-1)\n",
    "H1,H2,H3,H4 = symbols(\"H_1 H_2 H_3 H_4\")\n",
    "H1_val = coeff5_eq.lhs\n",
    "H2_val = coeff6_eq.lhs\n",
    "H3_val = coeff7_eq.lhs\n",
    "H4_val = coeff8_eq.lhs\n",
    "H_vec = Matrix([H1,H2,H3,H4])\n",
    "F_vec = A_inv*H_vec\n",
    "F1_val = F_vec.row(0)[0].subs([[H1,H1_val],[H2,H2_val],[H3,H3_val],[H4,H4_val]]).subs(w,'omega')\n",
    "Eq(F1,F1_val)\n"
   ]
  },
  {
   "cell_type": "code",
   "execution_count": 157,
   "id": "6cee6ae3-1fec-40a0-94e2-b119552e780a",
   "metadata": {},
   "outputs": [
    {
     "data": {
      "text/latex": [
       "$\\displaystyle F_{2} = \\frac{C_{4} c^{2} k_{xo}}{4 D_{4}^{0.75} \\omega} + \\frac{D_{3}}{4 D_{4}} + \\frac{y_{o}}{4} + \\frac{C_{3} + C_{4} x_{o}}{4 \\sqrt{D_{4}}} + \\frac{c^{2} k_{yo}}{4 \\sqrt[4]{D_{4}} \\omega}$"
      ],
      "text/plain": [
       "          -0.75  2                                  2       \n",
       "     C₄⋅D₄     ⋅c ⋅kₓₒ    D₃    yₒ   C₃ + C₄⋅xₒ    c ⋅k_yo  \n",
       "F₂ = ───────────────── + ──── + ── + ────────── + ──────────\n",
       "            4⋅ω          4⋅D₄   4         ____      4 ____  \n",
       "                                      4⋅╲╱ D₄     4⋅╲╱ D₄ ⋅ω"
      ]
     },
     "execution_count": 157,
     "metadata": {},
     "output_type": "execute_result"
    }
   ],
   "source": [
    "F2_val = F_vec.row(1)[0].subs([[H1,H1_val],[H2,H2_val],[H3,H3_val],[H4,H4_val]]).subs(w,'omega')\n",
    "Eq(F2,F2_val)"
   ]
  },
  {
   "cell_type": "code",
   "execution_count": 158,
   "id": "3c5406d7-0c8b-4860-8014-3f0bee4306d1",
   "metadata": {},
   "outputs": [
    {
     "data": {
      "text/latex": [
       "$\\displaystyle F_{3} = - \\frac{C_{4} c^{2} k_{xo}}{2 D_{4}^{0.75} \\omega} + \\frac{c^{2} k_{yo}}{2 \\sqrt[4]{D_{4}} \\omega}$"
      ],
      "text/plain": [
       "            -0.75  2         2       \n",
       "       C₄⋅D₄     ⋅c ⋅kₓₒ    c ⋅k_yo  \n",
       "F₃ = - ───────────────── + ──────────\n",
       "              2⋅ω            4 ____  \n",
       "                           2⋅╲╱ D₄ ⋅ω"
      ]
     },
     "execution_count": 158,
     "metadata": {},
     "output_type": "execute_result"
    }
   ],
   "source": [
    "F3_val = F_vec.row(2)[0].subs([[H1,H1_val],[H2,H2_val],[H3,H3_val],[H4,H4_val]]).subs(w,'omega')\n",
    "Eq(F3,F3_val)"
   ]
  },
  {
   "cell_type": "code",
   "execution_count": 159,
   "id": "ab6b4e7a-6150-4170-bcf4-5fa36886b950",
   "metadata": {},
   "outputs": [
    {
     "data": {
      "text/latex": [
       "$\\displaystyle F_{4} = \\frac{D_{3}}{2 D_{4}} + \\frac{y_{o}}{2} - \\frac{C_{3} + C_{4} x_{o}}{2 \\sqrt{D_{4}}}$"
      ],
      "text/plain": [
       "      D₃    yₒ   C₃ + C₄⋅xₒ\n",
       "F₄ = ──── + ── - ──────────\n",
       "     2⋅D₄   2         ____ \n",
       "                  2⋅╲╱ D₄  "
      ]
     },
     "execution_count": 159,
     "metadata": {},
     "output_type": "execute_result"
    }
   ],
   "source": [
    "F4_val = F_vec.row(3)[0].subs([[H1,H1_val],[H2,H2_val],[H3,H3_val],[H4,H4_val]]).subs(w,'omega')\n",
    "Eq(F4,F4_val)"
   ]
  },
  {
   "cell_type": "markdown",
   "id": "536849e5-c63b-4240-ad87-bed69af036b1",
   "metadata": {},
   "source": [
    "<h1>Exporting Expressions to Latex</h1>"
   ]
  },
  {
   "cell_type": "code",
   "execution_count": 178,
   "id": "14236f69-d156-4e5c-a069-cefeee6c1cb0",
   "metadata": {},
   "outputs": [
    {
     "name": "stdout",
     "output_type": "stream",
     "text": [
      "\\operatorname{n_{e}}{\\left(x,y \\right)} = n_{1} + x y \\left(\\frac{n_{1}}{\\alpha \\beta} - \\frac{n_{2}}{\\alpha \\beta} - \\frac{n_{3}}{\\alpha \\beta} + \\frac{n_{4}}{\\alpha \\beta}\\right) + x \\left(- \\frac{n_{1}}{\\alpha} + \\frac{n_{2}}{\\alpha}\\right) + y \\left(- \\frac{n_{1}}{\\beta} + \\frac{n_{3}}{\\beta}\\right)\n"
     ]
    }
   ],
   "source": [
    "export_ne_eq = Eq(ne_eq.lhs.subs([(x,'x'),(y,'y')]),collect(ne_eq.rhs,(n1,n2,n3,n4)).subs([(x,'x'),(y,'y')]))\n",
    "print(latex(export_ne_eq))"
   ]
  },
  {
   "cell_type": "code",
   "execution_count": 181,
   "id": "5f181364-b13e-418a-b475-97fb6c84efc8",
   "metadata": {},
   "outputs": [
    {
     "name": "stdout",
     "output_type": "stream",
     "text": [
      "\\frac{d}{d t} x{\\left(t \\right)} = \\frac{c^{2} \\operatorname{k_{x}}{\\left(t \\right)}}{\\omega}\n"
     ]
    }
   ],
   "source": [
    "export_dxdt_eq = Eq(dxdt_eq.lhs,dxdt_eq.rhs.subs(w,'omega'))\n",
    "print(latex(export_dxdt_eq))"
   ]
  },
  {
   "cell_type": "code",
   "execution_count": 183,
   "id": "b6082178-a56c-4f9a-b162-5f0a4b0fb307",
   "metadata": {},
   "outputs": [
    {
     "name": "stdout",
     "output_type": "stream",
     "text": [
      "\\frac{d}{d t} \\operatorname{k_{x}}{\\left(t \\right)} = B_{1} + B_{2} y{\\left(t \\right)}\n"
     ]
    }
   ],
   "source": [
    "export_dkxdt_eq = Eq(dkxdt_eq.lhs,dkxdt_eq.rhs.subs(w,'omega'))\n",
    "print(latex(export_dkxdt_eq))"
   ]
  },
  {
   "cell_type": "code",
   "execution_count": 184,
   "id": "f88dc3b0-1a97-4746-a963-1a28635bfd34",
   "metadata": {},
   "outputs": [
    {
     "name": "stdout",
     "output_type": "stream",
     "text": [
      "x{\\left(t \\right)} = - \\frac{D_{1}}{D_{2}} + E_{1} e^{- \\sqrt[4]{D_{2}} t} + E_{2} e^{\\sqrt[4]{D_{2}} t} + E_{3} \\sin{\\left(\\sqrt[4]{D_{2}} t \\right)} + E_{4} \\cos{\\left(\\sqrt[4]{D_{2}} t \\right)}\n"
     ]
    }
   ],
   "source": [
    "print(latex(x_complete))"
   ]
  },
  {
   "cell_type": "code",
   "execution_count": 185,
   "id": "f24db6e9-cdd4-460c-aa4e-5985fb14b3eb",
   "metadata": {},
   "outputs": [
    {
     "name": "stdout",
     "output_type": "stream",
     "text": [
      "y{\\left(t \\right)} = - \\frac{D_{3}}{D_{4}} + F_{1} e^{- \\sqrt[4]{D_{4}} t} + F_{2} e^{\\sqrt[4]{D_{4}} t} + F_{3} \\sin{\\left(\\sqrt[4]{D_{4}} t \\right)} + F_{4} \\cos{\\left(\\sqrt[4]{D_{4}} t \\right)}\n"
     ]
    }
   ],
   "source": [
    "print(latex(y_complete))"
   ]
  },
  {
   "cell_type": "code",
   "execution_count": 188,
   "id": "d6f583ba-09f1-44c6-baf9-d009cc2871c7",
   "metadata": {},
   "outputs": [
    {
     "name": "stdout",
     "output_type": "stream",
     "text": [
      "D_{1} = \\frac{c^{4} \\gamma^{2} \\left(- \\frac{n_{1}}{\\beta} + \\frac{n_{3}}{\\beta}\\right) \\left(\\frac{n_{1}}{\\alpha \\beta} - \\frac{n_{2}}{\\alpha \\beta} - \\frac{n_{3}}{\\alpha \\beta} + \\frac{n_{4}}{\\alpha \\beta}\\right)}{4 \\omega^{4}}\n"
     ]
    }
   ],
   "source": [
    "print(latex(Eq(D1,D1_exp.subs(w,'omega'))))"
   ]
  },
  {
   "cell_type": "code",
   "execution_count": 189,
   "id": "5298f3e1-4139-4f22-b9da-34948450ca26",
   "metadata": {},
   "outputs": [
    {
     "name": "stdout",
     "output_type": "stream",
     "text": [
      "D_{2} = \\frac{c^{4} \\gamma^{2} \\left(\\frac{n_{1}}{\\alpha \\beta} - \\frac{n_{2}}{\\alpha \\beta} - \\frac{n_{3}}{\\alpha \\beta} + \\frac{n_{4}}{\\alpha \\beta}\\right)^{2}}{4 \\omega^{4}}\n"
     ]
    }
   ],
   "source": [
    "print(latex(Eq(D2,D2_exp.subs(w,'omega'))))"
   ]
  },
  {
   "cell_type": "code",
   "execution_count": 190,
   "id": "b6494784-901b-4009-9478-aa4ec6fd2669",
   "metadata": {},
   "outputs": [
    {
     "name": "stdout",
     "output_type": "stream",
     "text": [
      "D_{3} = \\frac{c^{4} \\gamma^{2} \\left(- \\frac{n_{1}}{\\alpha} + \\frac{n_{2}}{\\alpha}\\right) \\left(\\frac{n_{1}}{\\alpha \\beta} - \\frac{n_{2}}{\\alpha \\beta} - \\frac{n_{3}}{\\alpha \\beta} + \\frac{n_{4}}{\\alpha \\beta}\\right)}{4 \\omega^{4}}\n"
     ]
    }
   ],
   "source": [
    "print(latex(Eq(D3,D3_exp.subs(w,'omega'))))"
   ]
  },
  {
   "cell_type": "code",
   "execution_count": 191,
   "id": "ac73b940-1dbb-42ac-a2c5-1f422879f0e6",
   "metadata": {},
   "outputs": [
    {
     "name": "stdout",
     "output_type": "stream",
     "text": [
      "D_{4} = \\frac{c^{4} \\gamma^{2} \\left(\\frac{n_{1}}{\\alpha \\beta} - \\frac{n_{2}}{\\alpha \\beta} - \\frac{n_{3}}{\\alpha \\beta} + \\frac{n_{4}}{\\alpha \\beta}\\right)^{2}}{4 \\omega^{4}}\n"
     ]
    }
   ],
   "source": [
    "print(latex(Eq(D4,D4_exp.subs(w,'omega'))))"
   ]
  },
  {
   "cell_type": "code",
   "execution_count": 194,
   "id": "13cb5f11-6b9f-4eab-bcc7-7948b020f815",
   "metadata": {},
   "outputs": [
    {
     "name": "stdout",
     "output_type": "stream",
     "text": [
      "E_{1} = - \\frac{C_{2} c^{2} k_{yo}}{4 D_{2}^{0.75} \\omega} + \\frac{D_{1}}{4 D_{2}} + \\frac{x_{o}}{4} + \\frac{C_{1} + C_{2} y_{o}}{4 \\sqrt{D_{2}}} - \\frac{c^{2} k_{xo}}{4 \\sqrt[4]{D_{2}} \\omega}\n",
      "E_{2} = \\frac{C_{2} c^{2} k_{yo}}{4 D_{2}^{0.75} \\omega} + \\frac{D_{1}}{4 D_{2}} + \\frac{x_{o}}{4} + \\frac{C_{1} + C_{2} y_{o}}{4 \\sqrt{D_{2}}} + \\frac{c^{2} k_{xo}}{4 \\sqrt[4]{D_{2}} \\omega}\n",
      "E_{3} = - \\frac{C_{2} c^{2} k_{yo}}{2 D_{2}^{0.75} \\omega} + \\frac{c^{2} k_{xo}}{2 \\sqrt[4]{D_{2}} \\omega}\n",
      "E_{4} = \\frac{D_{1}}{2 D_{2}} + \\frac{x_{o}}{2} - \\frac{C_{1} + C_{2} y_{o}}{2 \\sqrt{D_{2}}}\n"
     ]
    }
   ],
   "source": [
    "#E Coefficients\n",
    "print(latex(Eq(e1,E1_val.subs(w,'omega'))))\n",
    "print(latex(Eq(e2,E2_val.subs(w,'omega'))))\n",
    "print(latex(Eq(e3,E3_val.subs(w,'omega'))))\n",
    "print(latex(Eq(e4,E4_val.subs(w,'omega'))))"
   ]
  },
  {
   "cell_type": "code",
   "execution_count": 196,
   "id": "912082d0-ee5e-4799-a71e-4d4a71791f08",
   "metadata": {},
   "outputs": [
    {
     "name": "stdout",
     "output_type": "stream",
     "text": [
      "F_{1} = - \\frac{C_{4} c^{2} k_{xo}}{4 D_{4}^{0.75} \\omega} + \\frac{D_{3}}{4 D_{4}} + \\frac{y_{o}}{4} + \\frac{C_{3} + C_{4} x_{o}}{4 \\sqrt{D_{4}}} - \\frac{c^{2} k_{yo}}{4 \\sqrt[4]{D_{4}} \\omega}\n",
      "F_{2} = \\frac{C_{4} c^{2} k_{xo}}{4 D_{4}^{0.75} \\omega} + \\frac{D_{3}}{4 D_{4}} + \\frac{y_{o}}{4} + \\frac{C_{3} + C_{4} x_{o}}{4 \\sqrt{D_{4}}} + \\frac{c^{2} k_{yo}}{4 \\sqrt[4]{D_{4}} \\omega}\n",
      "F_{3} = - \\frac{C_{4} c^{2} k_{xo}}{2 D_{4}^{0.75} \\omega} + \\frac{c^{2} k_{yo}}{2 \\sqrt[4]{D_{4}} \\omega}\n",
      "F_{4} = \\frac{D_{3}}{2 D_{4}} + \\frac{y_{o}}{2} - \\frac{C_{3} + C_{4} x_{o}}{2 \\sqrt{D_{4}}}\n"
     ]
    }
   ],
   "source": [
    "#F Coefficients\n",
    "print(latex(Eq(F1,F1_val.subs(w,'omega'))))\n",
    "print(latex(Eq(F2,F2_val.subs(w,'omega'))))\n",
    "print(latex(Eq(F3,F3_val.subs(w,'omega'))))\n",
    "print(latex(Eq(F4,F4_val.subs(w,'omega'))))"
   ]
  },
  {
   "cell_type": "code",
   "execution_count": 199,
   "id": "07690c10-2199-4601-8860-e95657875a03",
   "metadata": {},
   "outputs": [
    {
     "name": "stdout",
     "output_type": "stream",
     "text": [
      "C_{1} = \\frac{c^{2} \\gamma \\left(- \\frac{n_{1}}{\\alpha} + \\frac{n_{2}}{\\alpha}\\right)}{2 \\omega^{2}}\n",
      "C_{2} = \\frac{c^{2} \\gamma \\left(\\frac{n_{1}}{\\alpha \\beta} - \\frac{n_{2}}{\\alpha \\beta} - \\frac{n_{3}}{\\alpha \\beta} + \\frac{n_{4}}{\\alpha \\beta}\\right)}{2 \\omega^{2}}\n",
      "C_{3} = \\frac{c^{2} \\gamma \\left(- \\frac{n_{1}}{\\beta} + \\frac{n_{3}}{\\beta}\\right)}{2 \\omega^{2}}\n",
      "C_{4} = \\frac{c^{2} \\gamma \\left(\\frac{n_{1}}{\\alpha \\beta} - \\frac{n_{2}}{\\alpha \\beta} - \\frac{n_{3}}{\\alpha \\beta} + \\frac{n_{4}}{\\alpha \\beta}\\right)}{2 \\omega^{2}}\n"
     ]
    }
   ],
   "source": [
    "#C coefficients\n",
    "print(latex(Eq(C1,expand_coeff(C1_val).subs(w,'omega'))))\n",
    "print(latex(Eq(C2,expand_coeff(C2_val).subs(w,'omega'))))\n",
    "print(latex(Eq(C3,expand_coeff(C3_val).subs(w,'omega'))))\n",
    "print(latex(Eq(C4,expand_coeff(C4_val).subs(w,'omega'))))"
   ]
  },
  {
   "cell_type": "code",
   "execution_count": null,
   "id": "6c8f3b5c-904c-4248-b491-f9757fcfcf44",
   "metadata": {},
   "outputs": [],
   "source": []
  }
 ],
 "metadata": {
  "kernelspec": {
   "display_name": "Python 3",
   "language": "python",
   "name": "python3"
  },
  "language_info": {
   "codemirror_mode": {
    "name": "ipython",
    "version": 3
   },
   "file_extension": ".py",
   "mimetype": "text/x-python",
   "name": "python",
   "nbconvert_exporter": "python",
   "pygments_lexer": "ipython3",
   "version": "3.8.0"
  }
 },
 "nbformat": 4,
 "nbformat_minor": 5
}
